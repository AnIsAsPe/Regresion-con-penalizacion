{
  "nbformat": 4,
  "nbformat_minor": 0,
  "metadata": {
    "colab": {
      "name": "Games of thrones.ipynb",
      "provenance": [],
      "collapsed_sections": [],
      "toc_visible": true,
      "authorship_tag": "ABX9TyPegQQkf8oZDJLi7IJ7RKUO",
      "include_colab_link": true
    },
    "kernelspec": {
      "name": "python3",
      "display_name": "Python 3"
    }
  },
  "cells": [
    {
      "cell_type": "markdown",
      "metadata": {
        "id": "view-in-github",
        "colab_type": "text"
      },
      "source": [
        "<a href=\"https://colab.research.google.com/github/AnIsAsPe/Regresion-con-penalizacion/blob/main/Games_of_thrones.ipynb\" target=\"_parent\"><img src=\"https://colab.research.google.com/assets/colab-badge.svg\" alt=\"Open In Colab\"/></a>"
      ]
    },
    {
      "cell_type": "markdown",
      "metadata": {
        "id": "zM8gl2nuf0mM"
      },
      "source": [
        "## Cargar bibiliotecas"
      ]
    },
    {
      "cell_type": "code",
      "metadata": {
        "id": "CGCP_S6cfw9L",
        "outputId": "cb56bc29-9a57-4c24-f962-c47e0d6229a9",
        "colab": {
          "base_uri": "https://localhost:8080/",
          "height": 136
        }
      },
      "source": [
        "import pandas as pd\n",
        "import numpy as np\n",
        "\n",
        "import os\n",
        "from wordcloud import WordCloud\n",
        "from PIL import Image \n",
        "\n",
        "import string\n",
        "import nltk\n",
        "from nltk.corpus import stopwords\n",
        "from nltk.stem import WordNetLemmatizer, PorterStemmer\n",
        "from nltk.tokenize import word_tokenize\n",
        "\n",
        "from sklearn.feature_extraction.text import CountVectorizer \n",
        "from sklearn.feature_extraction.text import TfidfVectorizer\n",
        "\n",
        "from sklearn.model_selection import train_test_split\n",
        "\n",
        "from sklearn.linear_model import LinearRegression\n",
        "from sklearn.linear_model import Lasso, LassoCV, Ridge, RidgeCV\n",
        "from sklearn.metrics import mean_squared_error\n",
        "\n",
        "import matplotlib.pyplot as plt \n",
        "import seaborn as sns  \n",
        "\n",
        "nltk.download('stopwords')\n",
        "nltk.download('wordnet')  #WordNetLemmatizer\n",
        "nltk.download('punkt')"
      ],
      "execution_count": 1,
      "outputs": [
        {
          "output_type": "stream",
          "text": [
            "[nltk_data] Downloading package stopwords to /root/nltk_data...\n",
            "[nltk_data]   Package stopwords is already up-to-date!\n",
            "[nltk_data] Downloading package wordnet to /root/nltk_data...\n",
            "[nltk_data]   Package wordnet is already up-to-date!\n",
            "[nltk_data] Downloading package punkt to /root/nltk_data...\n",
            "[nltk_data]   Package punkt is already up-to-date!\n"
          ],
          "name": "stdout"
        },
        {
          "output_type": "execute_result",
          "data": {
            "text/plain": [
              "True"
            ]
          },
          "metadata": {
            "tags": []
          },
          "execution_count": 1
        }
      ]
    },
    {
      "cell_type": "markdown",
      "metadata": {
        "id": "Ll2bfLPwg_As"
      },
      "source": [
        "## Funciones"
      ]
    },
    {
      "cell_type": "markdown",
      "metadata": {
        "id": "ObbIJJ2EoDHP"
      },
      "source": [
        "#### correlacion()"
      ]
    },
    {
      "cell_type": "code",
      "metadata": {
        "id": "U3ZOAyC4hBnU"
      },
      "source": [
        "def correlacion(dataframe, grafica=True, matrix=False, tamaño =(5,4)):\n",
        "    '''Devuelve la matriz de correlación de un dataframe\n",
        "    y sí grafica=True, muestra un mapa de calor de la matriz de correlación'''\n",
        "    corr=dataframe.corr()                   \n",
        "    if grafica==True:\n",
        "      fig = plt.figure(figsize = tamaño)\n",
        "      ax = sns.heatmap(corr,\n",
        "                       vmin = -1,\n",
        "                       vmax = 1,\n",
        "                       center = 0,\n",
        "                       cmap = \"coolwarm\", \n",
        "                       annot = True,\n",
        "                       fmt=\".2f\",\n",
        "                       square = True)\n",
        "      ax.set_xticklabels(ax.get_xticklabels(), \n",
        "                         rotation = 45,\n",
        "                         horizontalalignment ='right')\n",
        "    if matrix==True:\n",
        "      return corr"
      ],
      "execution_count": 2,
      "outputs": []
    },
    {
      "cell_type": "markdown",
      "metadata": {
        "id": "R9gcqOEK5Tz2"
      },
      "source": [
        "#### elimina_stopwords()"
      ]
    },
    {
      "cell_type": "code",
      "metadata": {
        "id": "h2oSh9rG5UAG"
      },
      "source": [
        "def elimina_stopwords(texto):\n",
        "  nuevo_texto = ' '.join([palabra for palabra in str(texto).split() if\n",
        "                          palabra not in stopwords.words('english')])\n",
        "  return nuevo_texto"
      ],
      "execution_count": 3,
      "outputs": []
    },
    {
      "cell_type": "markdown",
      "metadata": {
        "id": "zJtH14qHRpfN"
      },
      "source": [
        "### elimina_puntuacion()"
      ]
    },
    {
      "cell_type": "code",
      "metadata": {
        "id": "C7d8p7LSRpmB"
      },
      "source": [
        "def elimina_puntuacion(texto):\n",
        "  puntuacion = set(string.punctuation)\n",
        "  nuevo_texto = ''.join (c for c in texto if c not in puntuacion)\n",
        "  return nuevo_texto\n"
      ],
      "execution_count": 4,
      "outputs": []
    },
    {
      "cell_type": "markdown",
      "metadata": {
        "id": "mHypc2nPEzvS"
      },
      "source": [
        "#### lematizar()"
      ]
    },
    {
      "cell_type": "code",
      "metadata": {
        "id": "fa0Srj3VEz5c"
      },
      "source": [
        "lemmatizer = WordNetLemmatizer()\n",
        "\n",
        "def lematizar(texto):\n",
        "  texto=texto.split()\n",
        "  nuevo_texto = \" \".join([lemmatizer.lemmatize(i) for i in texto])\n",
        "  return nuevo_texto"
      ],
      "execution_count": 5,
      "outputs": []
    },
    {
      "cell_type": "markdown",
      "metadata": {
        "id": "4OrHhLR6E8eq"
      },
      "source": [
        "#### stemmer()"
      ]
    },
    {
      "cell_type": "code",
      "metadata": {
        "id": "lZGlyjk2E8ot"
      },
      "source": [
        "st = PorterStemmer()\n",
        "\n",
        "def stemmer(texto):\n",
        "  texto=texto.split()\n",
        "  nuevo_texto =\" \".join([st.stem(i) for i in texto])\n",
        "  return nuevo_texto"
      ],
      "execution_count": 6,
      "outputs": []
    },
    {
      "cell_type": "markdown",
      "metadata": {
        "id": "zYorvolhNu5Z"
      },
      "source": [
        "#### tokenizar()"
      ]
    },
    {
      "cell_type": "code",
      "metadata": {
        "id": "8q0PQ6eXNvBv"
      },
      "source": [
        "def tokenizar(texto):\n",
        "  nuevo_texto =word_tokenize(texto)\n",
        "  return nuevo_texto"
      ],
      "execution_count": 7,
      "outputs": []
    },
    {
      "cell_type": "markdown",
      "metadata": {
        "id": "R_d912qROTu8"
      },
      "source": [
        "#### preprocesar(texto)\n"
      ]
    },
    {
      "cell_type": "code",
      "metadata": {
        "id": "AJYwX4CPOT4P"
      },
      "source": [
        "def preprocesar(texto):\n",
        "  texto = texto.lower()\n",
        "  texto = elimina_stopwords(texto)\n",
        "  texto = elimina_puntuacion(texto)\n",
        "  texto = stemmer(texto)\n",
        "  return(texto)\n"
      ],
      "execution_count": 8,
      "outputs": []
    },
    {
      "cell_type": "markdown",
      "metadata": {
        "id": "t_Ut5UDshBzs"
      },
      "source": [
        "## Leer Datos\n"
      ]
    },
    {
      "cell_type": "code",
      "metadata": {
        "id": "-IDiA043hD3t"
      },
      "source": [
        "#from google.colab import  files\n",
        "#files.upload()"
      ],
      "execution_count": 10,
      "outputs": []
    },
    {
      "cell_type": "code",
      "metadata": {
        "id": "9ez2iYEciXdF",
        "outputId": "2d8cb9c8-f3d0-4ab8-8469-2c19bf130bfa",
        "colab": {
          "base_uri": "https://localhost:8080/",
          "height": 383
        }
      },
      "source": [
        "datos = pd.read_csv('got_data.csv')\n",
        "datos.head(3)"
      ],
      "execution_count": 11,
      "outputs": [
        {
          "output_type": "execute_result",
          "data": {
            "text/html": [
              "<div>\n",
              "<style scoped>\n",
              "    .dataframe tbody tr th:only-of-type {\n",
              "        vertical-align: middle;\n",
              "    }\n",
              "\n",
              "    .dataframe tbody tr th {\n",
              "        vertical-align: top;\n",
              "    }\n",
              "\n",
              "    .dataframe thead th {\n",
              "        text-align: right;\n",
              "    }\n",
              "</style>\n",
              "<table border=\"1\" class=\"dataframe\">\n",
              "  <thead>\n",
              "    <tr style=\"text-align: right;\">\n",
              "      <th></th>\n",
              "      <th>Season</th>\n",
              "      <th>Episode Number</th>\n",
              "      <th>Number in Season</th>\n",
              "      <th>Episode Name</th>\n",
              "      <th>Director</th>\n",
              "      <th>Writer</th>\n",
              "      <th>Original Air Date</th>\n",
              "      <th>US viewers (million)</th>\n",
              "      <th>Runtime (mins)</th>\n",
              "      <th>IMDB Description</th>\n",
              "      <th>IMDB votes</th>\n",
              "      <th>Imdb Rating</th>\n",
              "      <th>Notable Death Count</th>\n",
              "    </tr>\n",
              "  </thead>\n",
              "  <tbody>\n",
              "    <tr>\n",
              "      <th>0</th>\n",
              "      <td>1</td>\n",
              "      <td>1</td>\n",
              "      <td>1</td>\n",
              "      <td>Winter Is Coming</td>\n",
              "      <td>Tim Van Patten</td>\n",
              "      <td>David Benioff &amp; D. B. Weiss</td>\n",
              "      <td>April 17, 2011</td>\n",
              "      <td>2.22</td>\n",
              "      <td>62</td>\n",
              "      <td>Jon Arryn, the Hand of the King, is dead. King...</td>\n",
              "      <td>27685</td>\n",
              "      <td>9.0</td>\n",
              "      <td>4</td>\n",
              "    </tr>\n",
              "    <tr>\n",
              "      <th>1</th>\n",
              "      <td>1</td>\n",
              "      <td>2</td>\n",
              "      <td>2</td>\n",
              "      <td>The Kingsroad</td>\n",
              "      <td>Tim Van Patten</td>\n",
              "      <td>David Benioff &amp; D. B. Weiss</td>\n",
              "      <td>April 24, 2011</td>\n",
              "      <td>2.20</td>\n",
              "      <td>56</td>\n",
              "      <td>While Bran recovers from his fall, Ned takes o...</td>\n",
              "      <td>21256</td>\n",
              "      <td>8.8</td>\n",
              "      <td>3</td>\n",
              "    </tr>\n",
              "    <tr>\n",
              "      <th>2</th>\n",
              "      <td>1</td>\n",
              "      <td>3</td>\n",
              "      <td>3</td>\n",
              "      <td>Lord Snow</td>\n",
              "      <td>Brian Kirk</td>\n",
              "      <td>David Benioff &amp; D. B. Weiss</td>\n",
              "      <td>May 1, 2011</td>\n",
              "      <td>2.44</td>\n",
              "      <td>58</td>\n",
              "      <td>Lord Stark and his daughters arrive at King's ...</td>\n",
              "      <td>20090</td>\n",
              "      <td>8.7</td>\n",
              "      <td>0</td>\n",
              "    </tr>\n",
              "  </tbody>\n",
              "</table>\n",
              "</div>"
            ],
            "text/plain": [
              "   Season  Episode Number  ...  Imdb Rating Notable Death Count\n",
              "0       1               1  ...          9.0                   4\n",
              "1       1               2  ...          8.8                   3\n",
              "2       1               3  ...          8.7                   0\n",
              "\n",
              "[3 rows x 13 columns]"
            ]
          },
          "metadata": {
            "tags": []
          },
          "execution_count": 11
        }
      ]
    },
    {
      "cell_type": "code",
      "metadata": {
        "id": "rrmeKCgwvtnq"
      },
      "source": [
        "id = datos.columns[0:4].to_list()\n",
        "id.append(datos.columns[6])"
      ],
      "execution_count": 12,
      "outputs": []
    },
    {
      "cell_type": "code",
      "metadata": {
        "id": "cku8LlfFvU3l"
      },
      "source": [
        "df = datos.drop(columns=id)"
      ],
      "execution_count": 13,
      "outputs": []
    },
    {
      "cell_type": "code",
      "metadata": {
        "id": "wqwMtrNpe0PQ",
        "outputId": "3575402e-2d0d-4025-9cdf-6dbf0d2e5068",
        "colab": {
          "base_uri": "https://localhost:8080/",
          "height": 227
        }
      },
      "source": [
        "#Llevar columna de clase (Imdb Rating) hasta la última posición\n",
        "\n",
        "cols = df.columns.tolist()\n",
        "df = df[[c for c in df if c != 'Imdb Rating'] + ['Imdb Rating']]\n",
        "\n",
        "print(df.shape)\n",
        "df.head(3)"
      ],
      "execution_count": 14,
      "outputs": [
        {
          "output_type": "stream",
          "text": [
            "(73, 8)\n"
          ],
          "name": "stdout"
        },
        {
          "output_type": "execute_result",
          "data": {
            "text/html": [
              "<div>\n",
              "<style scoped>\n",
              "    .dataframe tbody tr th:only-of-type {\n",
              "        vertical-align: middle;\n",
              "    }\n",
              "\n",
              "    .dataframe tbody tr th {\n",
              "        vertical-align: top;\n",
              "    }\n",
              "\n",
              "    .dataframe thead th {\n",
              "        text-align: right;\n",
              "    }\n",
              "</style>\n",
              "<table border=\"1\" class=\"dataframe\">\n",
              "  <thead>\n",
              "    <tr style=\"text-align: right;\">\n",
              "      <th></th>\n",
              "      <th>Director</th>\n",
              "      <th>Writer</th>\n",
              "      <th>US viewers (million)</th>\n",
              "      <th>Runtime (mins)</th>\n",
              "      <th>IMDB Description</th>\n",
              "      <th>IMDB votes</th>\n",
              "      <th>Notable Death Count</th>\n",
              "      <th>Imdb Rating</th>\n",
              "    </tr>\n",
              "  </thead>\n",
              "  <tbody>\n",
              "    <tr>\n",
              "      <th>0</th>\n",
              "      <td>Tim Van Patten</td>\n",
              "      <td>David Benioff &amp; D. B. Weiss</td>\n",
              "      <td>2.22</td>\n",
              "      <td>62</td>\n",
              "      <td>Jon Arryn, the Hand of the King, is dead. King...</td>\n",
              "      <td>27685</td>\n",
              "      <td>4</td>\n",
              "      <td>9.0</td>\n",
              "    </tr>\n",
              "    <tr>\n",
              "      <th>1</th>\n",
              "      <td>Tim Van Patten</td>\n",
              "      <td>David Benioff &amp; D. B. Weiss</td>\n",
              "      <td>2.20</td>\n",
              "      <td>56</td>\n",
              "      <td>While Bran recovers from his fall, Ned takes o...</td>\n",
              "      <td>21256</td>\n",
              "      <td>3</td>\n",
              "      <td>8.8</td>\n",
              "    </tr>\n",
              "    <tr>\n",
              "      <th>2</th>\n",
              "      <td>Brian Kirk</td>\n",
              "      <td>David Benioff &amp; D. B. Weiss</td>\n",
              "      <td>2.44</td>\n",
              "      <td>58</td>\n",
              "      <td>Lord Stark and his daughters arrive at King's ...</td>\n",
              "      <td>20090</td>\n",
              "      <td>0</td>\n",
              "      <td>8.7</td>\n",
              "    </tr>\n",
              "  </tbody>\n",
              "</table>\n",
              "</div>"
            ],
            "text/plain": [
              "         Director  ... Imdb Rating\n",
              "0  Tim Van Patten  ...         9.0\n",
              "1  Tim Van Patten  ...         8.8\n",
              "2      Brian Kirk  ...         8.7\n",
              "\n",
              "[3 rows x 8 columns]"
            ]
          },
          "metadata": {
            "tags": []
          },
          "execution_count": 14
        }
      ]
    },
    {
      "cell_type": "markdown",
      "metadata": {
        "id": "p-VvlbjDlAf2"
      },
      "source": [
        "## Analisis Exploratorio"
      ]
    },
    {
      "cell_type": "markdown",
      "metadata": {
        "id": "xrdDIpVcXnjT"
      },
      "source": [
        "### Exploración de las variables las numéricas"
      ]
    },
    {
      "cell_type": "code",
      "metadata": {
        "id": "Uy6fbkXmXnjX",
        "outputId": "e8304975-edac-41eb-f050-7258eaf6e59f",
        "colab": {
          "base_uri": "https://localhost:8080/",
          "height": 204
        }
      },
      "source": [
        "numericas = df.select_dtypes(exclude='object')\n",
        "numericas.head()"
      ],
      "execution_count": 15,
      "outputs": [
        {
          "output_type": "execute_result",
          "data": {
            "text/html": [
              "<div>\n",
              "<style scoped>\n",
              "    .dataframe tbody tr th:only-of-type {\n",
              "        vertical-align: middle;\n",
              "    }\n",
              "\n",
              "    .dataframe tbody tr th {\n",
              "        vertical-align: top;\n",
              "    }\n",
              "\n",
              "    .dataframe thead th {\n",
              "        text-align: right;\n",
              "    }\n",
              "</style>\n",
              "<table border=\"1\" class=\"dataframe\">\n",
              "  <thead>\n",
              "    <tr style=\"text-align: right;\">\n",
              "      <th></th>\n",
              "      <th>US viewers (million)</th>\n",
              "      <th>Runtime (mins)</th>\n",
              "      <th>IMDB votes</th>\n",
              "      <th>Notable Death Count</th>\n",
              "      <th>Imdb Rating</th>\n",
              "    </tr>\n",
              "  </thead>\n",
              "  <tbody>\n",
              "    <tr>\n",
              "      <th>0</th>\n",
              "      <td>2.22</td>\n",
              "      <td>62</td>\n",
              "      <td>27685</td>\n",
              "      <td>4</td>\n",
              "      <td>9.0</td>\n",
              "    </tr>\n",
              "    <tr>\n",
              "      <th>1</th>\n",
              "      <td>2.20</td>\n",
              "      <td>56</td>\n",
              "      <td>21256</td>\n",
              "      <td>3</td>\n",
              "      <td>8.8</td>\n",
              "    </tr>\n",
              "    <tr>\n",
              "      <th>2</th>\n",
              "      <td>2.44</td>\n",
              "      <td>58</td>\n",
              "      <td>20090</td>\n",
              "      <td>0</td>\n",
              "      <td>8.7</td>\n",
              "    </tr>\n",
              "    <tr>\n",
              "      <th>3</th>\n",
              "      <td>2.45</td>\n",
              "      <td>56</td>\n",
              "      <td>19123</td>\n",
              "      <td>1</td>\n",
              "      <td>8.8</td>\n",
              "    </tr>\n",
              "    <tr>\n",
              "      <th>4</th>\n",
              "      <td>2.58</td>\n",
              "      <td>55</td>\n",
              "      <td>20062</td>\n",
              "      <td>5</td>\n",
              "      <td>9.1</td>\n",
              "    </tr>\n",
              "  </tbody>\n",
              "</table>\n",
              "</div>"
            ],
            "text/plain": [
              "   US viewers (million)  Runtime (mins)  ...  Notable Death Count  Imdb Rating\n",
              "0                  2.22              62  ...                    4          9.0\n",
              "1                  2.20              56  ...                    3          8.8\n",
              "2                  2.44              58  ...                    0          8.7\n",
              "3                  2.45              56  ...                    1          8.8\n",
              "4                  2.58              55  ...                    5          9.1\n",
              "\n",
              "[5 rows x 5 columns]"
            ]
          },
          "metadata": {
            "tags": []
          },
          "execution_count": 15
        }
      ]
    },
    {
      "cell_type": "code",
      "metadata": {
        "id": "cZZZGC5kdXeE",
        "outputId": "4a901075-d20e-449c-e35e-b4bddbd3c059",
        "colab": {
          "base_uri": "https://localhost:8080/",
          "height": 553
        }
      },
      "source": [
        "df.hist(figsize=(12,9), color='skyblue')\n",
        "plt.show()"
      ],
      "execution_count": 16,
      "outputs": [
        {
          "output_type": "display_data",
          "data": {
            "image/png": "[encoded data removed]",
            "text/plain": [
              "<Figure size 864x648 with 6 Axes>"
            ]
          },
          "metadata": {
            "tags": [],
            "needs_background": "light"
          }
        }
      ]
    },
    {
      "cell_type": "code",
      "metadata": {
        "id": "bGgTGCU3i6Ka",
        "outputId": "1c4331ea-51f1-4f3a-bdf2-7f47bb2580f5",
        "colab": {
          "base_uri": "https://localhost:8080/",
          "height": 340
        }
      },
      "source": [
        "correlacion(df)"
      ],
      "execution_count": 17,
      "outputs": [
        {
          "output_type": "display_data",
          "data": {
            "image/png": "[encoded data removed]",
            "text/plain": [
              "<Figure size 360x288 with 2 Axes>"
            ]
          },
          "metadata": {
            "tags": [],
            "needs_background": "light"
          }
        }
      ]
    },
    {
      "cell_type": "code",
      "metadata": {
        "id": "5jTrgBtndIxp",
        "outputId": "003ab69a-c330-42a8-9efc-ae2968574e3a",
        "colab": {
          "base_uri": "https://localhost:8080/",
          "height": 903
        }
      },
      "source": [
        "g = sns.pairplot(df)\n",
        "plt.show()"
      ],
      "execution_count": 18,
      "outputs": [
        {
          "output_type": "display_data",
          "data": {
            "image/png": "[encoded data removed]",
            "text/plain": [
              "<Figure size 900x900 with 30 Axes>"
            ]
          },
          "metadata": {
            "tags": [],
            "needs_background": "light"
          }
        }
      ]
    },
    {
      "cell_type": "markdown",
      "metadata": {
        "id": "veo_x-PyXzkC"
      },
      "source": [
        "### Exploración de las variables categóricas"
      ]
    },
    {
      "cell_type": "code",
      "metadata": {
        "id": "ST3ukW2dXzkE",
        "outputId": "c4629668-5726-4403-f802-bcca54ec63c6",
        "colab": {
          "base_uri": "https://localhost:8080/",
          "height": 309
        }
      },
      "source": [
        "categoricas = df.select_dtypes(include='object')\n",
        "categoricas.drop('IMDB Description', axis=1, inplace=True)\n",
        "categoricas.head()"
      ],
      "execution_count": 19,
      "outputs": [
        {
          "output_type": "stream",
          "text": [
            "/usr/local/lib/python3.6/dist-packages/pandas/core/frame.py:4169: SettingWithCopyWarning: \n",
            "A value is trying to be set on a copy of a slice from a DataFrame\n",
            "\n",
            "See the caveats in the documentation: https://pandas.pydata.org/pandas-docs/stable/user_guide/indexing.html#returning-a-view-versus-a-copy\n",
            "  errors=errors,\n"
          ],
          "name": "stderr"
        },
        {
          "output_type": "execute_result",
          "data": {
            "text/html": [
              "<div>\n",
              "<style scoped>\n",
              "    .dataframe tbody tr th:only-of-type {\n",
              "        vertical-align: middle;\n",
              "    }\n",
              "\n",
              "    .dataframe tbody tr th {\n",
              "        vertical-align: top;\n",
              "    }\n",
              "\n",
              "    .dataframe thead th {\n",
              "        text-align: right;\n",
              "    }\n",
              "</style>\n",
              "<table border=\"1\" class=\"dataframe\">\n",
              "  <thead>\n",
              "    <tr style=\"text-align: right;\">\n",
              "      <th></th>\n",
              "      <th>Director</th>\n",
              "      <th>Writer</th>\n",
              "    </tr>\n",
              "  </thead>\n",
              "  <tbody>\n",
              "    <tr>\n",
              "      <th>0</th>\n",
              "      <td>Tim Van Patten</td>\n",
              "      <td>David Benioff &amp; D. B. Weiss</td>\n",
              "    </tr>\n",
              "    <tr>\n",
              "      <th>1</th>\n",
              "      <td>Tim Van Patten</td>\n",
              "      <td>David Benioff &amp; D. B. Weiss</td>\n",
              "    </tr>\n",
              "    <tr>\n",
              "      <th>2</th>\n",
              "      <td>Brian Kirk</td>\n",
              "      <td>David Benioff &amp; D. B. Weiss</td>\n",
              "    </tr>\n",
              "    <tr>\n",
              "      <th>3</th>\n",
              "      <td>Brian Kirk</td>\n",
              "      <td>Bryan Cogman</td>\n",
              "    </tr>\n",
              "    <tr>\n",
              "      <th>4</th>\n",
              "      <td>Brian Kirk</td>\n",
              "      <td>David Benioff &amp; D. B. Weiss</td>\n",
              "    </tr>\n",
              "  </tbody>\n",
              "</table>\n",
              "</div>"
            ],
            "text/plain": [
              "         Director                       Writer\n",
              "0  Tim Van Patten  David Benioff & D. B. Weiss\n",
              "1  Tim Van Patten  David Benioff & D. B. Weiss\n",
              "2      Brian Kirk  David Benioff & D. B. Weiss\n",
              "3      Brian Kirk                 Bryan Cogman\n",
              "4      Brian Kirk  David Benioff & D. B. Weiss"
            ]
          },
          "metadata": {
            "tags": []
          },
          "execution_count": 19
        }
      ]
    },
    {
      "cell_type": "code",
      "metadata": {
        "id": "BoEoNCMSXzkS",
        "outputId": "27fe8a37-ec30-4a97-e679-4719eb328dc2",
        "colab": {
          "base_uri": "https://localhost:8080/",
          "height": 595
        }
      },
      "source": [
        "for col in categoricas.columns:\n",
        "  print('{} \\n{}\\n'.format(col.upper(), categoricas[col].value_counts()))"
      ],
      "execution_count": 20,
      "outputs": [
        {
          "output_type": "stream",
          "text": [
            "DIRECTOR \n",
            "David Nutter                   9\n",
            "Alan Taylor                    7\n",
            "Miguel Sapochnik               6\n",
            "Mark Mylod                     6\n",
            "Alex Graves                    6\n",
            "Jeremy Podeswa                 6\n",
            "Daniel Minahan                 5\n",
            "Michelle MacLaren              4\n",
            "Alik Sakharov                  4\n",
            "Brian Kirk                     3\n",
            "Daniel Sackheim                2\n",
            "Matt Shakman                   2\n",
            "Michael Slovis                 2\n",
            "Tim Van Patten                 2\n",
            "David Petrarca                 2\n",
            "Neil Marshall                  2\n",
            "Jack Bender                    2\n",
            "David Benioff                  1\n",
            "D. B. Weiss                    1\n",
            "David Benioff & D. B. Weiss    1\n",
            "Name: Director, dtype: int64\n",
            "\n",
            "WRITER \n",
            "David Benioff & D. B. Weiss                                  42\n",
            "Bryan Cogman                                                 11\n",
            "David Benioff & D. B. Weiss                                   7\n",
            "Dave Hill                                                     4\n",
            "George R. R. Martin                                           4\n",
            "Vanessa Taylor                                                3\n",
            "Story by : Jane Espenson and David Benioff & D. B. Weiss      1\n",
            "David Benioff & D. B. Weiss                                   1\n",
            "Name: Writer, dtype: int64\n",
            "\n"
          ],
          "name": "stdout"
        }
      ]
    },
    {
      "cell_type": "markdown",
      "metadata": {
        "id": "Ts30ZDa8XzkZ"
      },
      "source": [
        "#### Transformación de variables"
      ]
    },
    {
      "cell_type": "code",
      "metadata": {
        "id": "FSYzb3K1Xzka"
      },
      "source": [
        "df['Writer_1']= np.where(df.Writer.str.contains('David Benioff'), \n",
        "                        'David Benioff & D. B. Weiss ', df['Writer'])\n"
      ],
      "execution_count": 21,
      "outputs": []
    },
    {
      "cell_type": "code",
      "metadata": {
        "id": "Jce7a8DgXzke",
        "outputId": "55789e3f-59e0-4cee-ffe2-537ebcbd07c2",
        "colab": {
          "base_uri": "https://localhost:8080/",
          "height": 148
        }
      },
      "source": [
        "df[df['Writer'].str.contains(r'Story by')]"
      ],
      "execution_count": 22,
      "outputs": [
        {
          "output_type": "execute_result",
          "data": {
            "text/html": [
              "<div>\n",
              "<style scoped>\n",
              "    .dataframe tbody tr th:only-of-type {\n",
              "        vertical-align: middle;\n",
              "    }\n",
              "\n",
              "    .dataframe tbody tr th {\n",
              "        vertical-align: top;\n",
              "    }\n",
              "\n",
              "    .dataframe thead th {\n",
              "        text-align: right;\n",
              "    }\n",
              "</style>\n",
              "<table border=\"1\" class=\"dataframe\">\n",
              "  <thead>\n",
              "    <tr style=\"text-align: right;\">\n",
              "      <th></th>\n",
              "      <th>Director</th>\n",
              "      <th>Writer</th>\n",
              "      <th>US viewers (million)</th>\n",
              "      <th>Runtime (mins)</th>\n",
              "      <th>IMDB Description</th>\n",
              "      <th>IMDB votes</th>\n",
              "      <th>Notable Death Count</th>\n",
              "      <th>Imdb Rating</th>\n",
              "      <th>Writer_1</th>\n",
              "    </tr>\n",
              "  </thead>\n",
              "  <tbody>\n",
              "    <tr>\n",
              "      <th>5</th>\n",
              "      <td>Daniel Minahan</td>\n",
              "      <td>Story by : Jane Espenson and David Benioff &amp; D...</td>\n",
              "      <td>2.44</td>\n",
              "      <td>53</td>\n",
              "      <td>While recovering from his battle with Jaime, E...</td>\n",
              "      <td>19908</td>\n",
              "      <td>4</td>\n",
              "      <td>9.2</td>\n",
              "      <td>David Benioff &amp; D. B. Weiss</td>\n",
              "    </tr>\n",
              "  </tbody>\n",
              "</table>\n",
              "</div>"
            ],
            "text/plain": [
              "         Director  ...                      Writer_1\n",
              "5  Daniel Minahan  ...  David Benioff & D. B. Weiss \n",
              "\n",
              "[1 rows x 9 columns]"
            ]
          },
          "metadata": {
            "tags": []
          },
          "execution_count": 22
        }
      ]
    },
    {
      "cell_type": "code",
      "metadata": {
        "id": "QTCXSvIHXzki",
        "outputId": "032ab08b-6586-4b49-e642-6839027d30fd",
        "colab": {
          "base_uri": "https://localhost:8080/",
          "height": 136
        }
      },
      "source": [
        "df.loc[5,'Writer_1'] = 'Jane Espenson & David Benioff and D. B. Weiss'\n",
        "df.Writer_1.value_counts()"
      ],
      "execution_count": 23,
      "outputs": [
        {
          "output_type": "execute_result",
          "data": {
            "text/plain": [
              "David Benioff & D. B. Weiss                      50\n",
              "Bryan Cogman                                     11\n",
              "Dave Hill                                         4\n",
              "George R. R. Martin                               4\n",
              "Vanessa Taylor                                    3\n",
              "Jane Espenson & David Benioff and D. B. Weiss     1\n",
              "Name: Writer_1, dtype: int64"
            ]
          },
          "metadata": {
            "tags": []
          },
          "execution_count": 23
        }
      ]
    },
    {
      "cell_type": "code",
      "metadata": {
        "id": "8WPiXVzsXzkm"
      },
      "source": [
        "df=df.drop('Writer',axis=1)"
      ],
      "execution_count": 24,
      "outputs": []
    },
    {
      "cell_type": "code",
      "metadata": {
        "id": "OMYuCGYwXzkp",
        "outputId": "da817006-9ff9-4e44-a8ca-7d6c5984c166",
        "colab": {
          "base_uri": "https://localhost:8080/",
          "height": 561
        }
      },
      "source": [
        "categoricas = df.select_dtypes(include='object')\n",
        "categoricas = categoricas.drop('IMDB Description', axis=1)\n",
        "for col in categoricas.columns:\n",
        "  print('{} \\n{}\\n'.format(col.upper(), categoricas[col].value_counts()))"
      ],
      "execution_count": 25,
      "outputs": [
        {
          "output_type": "stream",
          "text": [
            "DIRECTOR \n",
            "David Nutter                   9\n",
            "Alan Taylor                    7\n",
            "Miguel Sapochnik               6\n",
            "Mark Mylod                     6\n",
            "Alex Graves                    6\n",
            "Jeremy Podeswa                 6\n",
            "Daniel Minahan                 5\n",
            "Michelle MacLaren              4\n",
            "Alik Sakharov                  4\n",
            "Brian Kirk                     3\n",
            "Daniel Sackheim                2\n",
            "Matt Shakman                   2\n",
            "Michael Slovis                 2\n",
            "Tim Van Patten                 2\n",
            "David Petrarca                 2\n",
            "Neil Marshall                  2\n",
            "Jack Bender                    2\n",
            "David Benioff                  1\n",
            "D. B. Weiss                    1\n",
            "David Benioff & D. B. Weiss    1\n",
            "Name: Director, dtype: int64\n",
            "\n",
            "WRITER_1 \n",
            "David Benioff & D. B. Weiss                      50\n",
            "Bryan Cogman                                     11\n",
            "Dave Hill                                         4\n",
            "George R. R. Martin                               4\n",
            "Vanessa Taylor                                    3\n",
            "Jane Espenson & David Benioff and D. B. Weiss     1\n",
            "Name: Writer_1, dtype: int64\n",
            "\n"
          ],
          "name": "stdout"
        }
      ]
    },
    {
      "cell_type": "markdown",
      "metadata": {
        "id": "4bIJh0Esivy8"
      },
      "source": [
        "### Relación escritor y director con calificación "
      ]
    },
    {
      "cell_type": "code",
      "metadata": {
        "id": "YKX6S96ijrqV",
        "outputId": "58e2a21a-7213-4ddb-a664-d39cac7c37ff",
        "colab": {
          "base_uri": "https://localhost:8080/",
          "height": 478
        }
      },
      "source": [
        "\n",
        "fig, ax = plt.subplots(1, 2, figsize=(16, 5))\n",
        "for var, subplot in zip(categoricas, ax.flatten()):\n",
        "    sns.boxplot(x=var, y='Imdb Rating', data=df, ax=subplot, showfliers=True)\n",
        "    for label in subplot.get_xticklabels():\n",
        "        label.set_rotation(45)"
      ],
      "execution_count": 26,
      "outputs": [
        {
          "output_type": "display_data",
          "data": {
            "image/png": "[encoded data removed]",
            "text/plain": [
              "<Figure size 1152x360 with 2 Axes>"
            ]
          },
          "metadata": {
            "tags": [],
            "needs_background": "light"
          }
        }
      ]
    },
    {
      "cell_type": "markdown",
      "metadata": {
        "id": "-OSr5QodXzks"
      },
      "source": [
        "#### Hot Encoding Escritor y Director"
      ]
    },
    {
      "cell_type": "code",
      "metadata": {
        "id": "H4FDraf9Xzkt",
        "outputId": "ff6b68c0-95a5-4850-803e-1dbb2fccbdcc",
        "colab": {
          "base_uri": "https://localhost:8080/",
          "height": 507
        }
      },
      "source": [
        "categoricas_he = pd.get_dummies(categoricas)\n",
        "categoricas_he"
      ],
      "execution_count": 27,
      "outputs": [
        {
          "output_type": "execute_result",
          "data": {
            "text/html": [
              "<div>\n",
              "<style scoped>\n",
              "    .dataframe tbody tr th:only-of-type {\n",
              "        vertical-align: middle;\n",
              "    }\n",
              "\n",
              "    .dataframe tbody tr th {\n",
              "        vertical-align: top;\n",
              "    }\n",
              "\n",
              "    .dataframe thead th {\n",
              "        text-align: right;\n",
              "    }\n",
              "</style>\n",
              "<table border=\"1\" class=\"dataframe\">\n",
              "  <thead>\n",
              "    <tr style=\"text-align: right;\">\n",
              "      <th></th>\n",
              "      <th>Director_Alan Taylor</th>\n",
              "      <th>Director_Alex Graves</th>\n",
              "      <th>Director_Alik Sakharov</th>\n",
              "      <th>Director_Brian Kirk</th>\n",
              "      <th>Director_D. B. Weiss</th>\n",
              "      <th>Director_Daniel Minahan</th>\n",
              "      <th>Director_Daniel Sackheim</th>\n",
              "      <th>Director_David Benioff</th>\n",
              "      <th>Director_David Benioff &amp; D. B. Weiss</th>\n",
              "      <th>Director_David Nutter</th>\n",
              "      <th>Director_David Petrarca</th>\n",
              "      <th>Director_Jack Bender</th>\n",
              "      <th>Director_Jeremy Podeswa</th>\n",
              "      <th>Director_Mark Mylod</th>\n",
              "      <th>Director_Matt Shakman</th>\n",
              "      <th>Director_Michael Slovis</th>\n",
              "      <th>Director_Michelle MacLaren</th>\n",
              "      <th>Director_Miguel Sapochnik</th>\n",
              "      <th>Director_Neil Marshall</th>\n",
              "      <th>Director_Tim Van Patten</th>\n",
              "      <th>Writer_1_Bryan Cogman</th>\n",
              "      <th>Writer_1_Dave Hill</th>\n",
              "      <th>Writer_1_David Benioff &amp; D. B. Weiss</th>\n",
              "      <th>Writer_1_George R. R. Martin</th>\n",
              "      <th>Writer_1_Jane Espenson &amp; David Benioff and D. B. Weiss</th>\n",
              "      <th>Writer_1_Vanessa Taylor</th>\n",
              "    </tr>\n",
              "  </thead>\n",
              "  <tbody>\n",
              "    <tr>\n",
              "      <th>0</th>\n",
              "      <td>0</td>\n",
              "      <td>0</td>\n",
              "      <td>0</td>\n",
              "      <td>0</td>\n",
              "      <td>0</td>\n",
              "      <td>0</td>\n",
              "      <td>0</td>\n",
              "      <td>0</td>\n",
              "      <td>0</td>\n",
              "      <td>0</td>\n",
              "      <td>0</td>\n",
              "      <td>0</td>\n",
              "      <td>0</td>\n",
              "      <td>0</td>\n",
              "      <td>0</td>\n",
              "      <td>0</td>\n",
              "      <td>0</td>\n",
              "      <td>0</td>\n",
              "      <td>0</td>\n",
              "      <td>1</td>\n",
              "      <td>0</td>\n",
              "      <td>0</td>\n",
              "      <td>1</td>\n",
              "      <td>0</td>\n",
              "      <td>0</td>\n",
              "      <td>0</td>\n",
              "    </tr>\n",
              "    <tr>\n",
              "      <th>1</th>\n",
              "      <td>0</td>\n",
              "      <td>0</td>\n",
              "      <td>0</td>\n",
              "      <td>0</td>\n",
              "      <td>0</td>\n",
              "      <td>0</td>\n",
              "      <td>0</td>\n",
              "      <td>0</td>\n",
              "      <td>0</td>\n",
              "      <td>0</td>\n",
              "      <td>0</td>\n",
              "      <td>0</td>\n",
              "      <td>0</td>\n",
              "      <td>0</td>\n",
              "      <td>0</td>\n",
              "      <td>0</td>\n",
              "      <td>0</td>\n",
              "      <td>0</td>\n",
              "      <td>0</td>\n",
              "      <td>1</td>\n",
              "      <td>0</td>\n",
              "      <td>0</td>\n",
              "      <td>1</td>\n",
              "      <td>0</td>\n",
              "      <td>0</td>\n",
              "      <td>0</td>\n",
              "    </tr>\n",
              "    <tr>\n",
              "      <th>2</th>\n",
              "      <td>0</td>\n",
              "      <td>0</td>\n",
              "      <td>0</td>\n",
              "      <td>1</td>\n",
              "      <td>0</td>\n",
              "      <td>0</td>\n",
              "      <td>0</td>\n",
              "      <td>0</td>\n",
              "      <td>0</td>\n",
              "      <td>0</td>\n",
              "      <td>0</td>\n",
              "      <td>0</td>\n",
              "      <td>0</td>\n",
              "      <td>0</td>\n",
              "      <td>0</td>\n",
              "      <td>0</td>\n",
              "      <td>0</td>\n",
              "      <td>0</td>\n",
              "      <td>0</td>\n",
              "      <td>0</td>\n",
              "      <td>0</td>\n",
              "      <td>0</td>\n",
              "      <td>1</td>\n",
              "      <td>0</td>\n",
              "      <td>0</td>\n",
              "      <td>0</td>\n",
              "    </tr>\n",
              "    <tr>\n",
              "      <th>3</th>\n",
              "      <td>0</td>\n",
              "      <td>0</td>\n",
              "      <td>0</td>\n",
              "      <td>1</td>\n",
              "      <td>0</td>\n",
              "      <td>0</td>\n",
              "      <td>0</td>\n",
              "      <td>0</td>\n",
              "      <td>0</td>\n",
              "      <td>0</td>\n",
              "      <td>0</td>\n",
              "      <td>0</td>\n",
              "      <td>0</td>\n",
              "      <td>0</td>\n",
              "      <td>0</td>\n",
              "      <td>0</td>\n",
              "      <td>0</td>\n",
              "      <td>0</td>\n",
              "      <td>0</td>\n",
              "      <td>0</td>\n",
              "      <td>1</td>\n",
              "      <td>0</td>\n",
              "      <td>0</td>\n",
              "      <td>0</td>\n",
              "      <td>0</td>\n",
              "      <td>0</td>\n",
              "    </tr>\n",
              "    <tr>\n",
              "      <th>4</th>\n",
              "      <td>0</td>\n",
              "      <td>0</td>\n",
              "      <td>0</td>\n",
              "      <td>1</td>\n",
              "      <td>0</td>\n",
              "      <td>0</td>\n",
              "      <td>0</td>\n",
              "      <td>0</td>\n",
              "      <td>0</td>\n",
              "      <td>0</td>\n",
              "      <td>0</td>\n",
              "      <td>0</td>\n",
              "      <td>0</td>\n",
              "      <td>0</td>\n",
              "      <td>0</td>\n",
              "      <td>0</td>\n",
              "      <td>0</td>\n",
              "      <td>0</td>\n",
              "      <td>0</td>\n",
              "      <td>0</td>\n",
              "      <td>0</td>\n",
              "      <td>0</td>\n",
              "      <td>1</td>\n",
              "      <td>0</td>\n",
              "      <td>0</td>\n",
              "      <td>0</td>\n",
              "    </tr>\n",
              "    <tr>\n",
              "      <th>...</th>\n",
              "      <td>...</td>\n",
              "      <td>...</td>\n",
              "      <td>...</td>\n",
              "      <td>...</td>\n",
              "      <td>...</td>\n",
              "      <td>...</td>\n",
              "      <td>...</td>\n",
              "      <td>...</td>\n",
              "      <td>...</td>\n",
              "      <td>...</td>\n",
              "      <td>...</td>\n",
              "      <td>...</td>\n",
              "      <td>...</td>\n",
              "      <td>...</td>\n",
              "      <td>...</td>\n",
              "      <td>...</td>\n",
              "      <td>...</td>\n",
              "      <td>...</td>\n",
              "      <td>...</td>\n",
              "      <td>...</td>\n",
              "      <td>...</td>\n",
              "      <td>...</td>\n",
              "      <td>...</td>\n",
              "      <td>...</td>\n",
              "      <td>...</td>\n",
              "      <td>...</td>\n",
              "    </tr>\n",
              "    <tr>\n",
              "      <th>68</th>\n",
              "      <td>0</td>\n",
              "      <td>0</td>\n",
              "      <td>0</td>\n",
              "      <td>0</td>\n",
              "      <td>0</td>\n",
              "      <td>0</td>\n",
              "      <td>0</td>\n",
              "      <td>0</td>\n",
              "      <td>0</td>\n",
              "      <td>1</td>\n",
              "      <td>0</td>\n",
              "      <td>0</td>\n",
              "      <td>0</td>\n",
              "      <td>0</td>\n",
              "      <td>0</td>\n",
              "      <td>0</td>\n",
              "      <td>0</td>\n",
              "      <td>0</td>\n",
              "      <td>0</td>\n",
              "      <td>0</td>\n",
              "      <td>1</td>\n",
              "      <td>0</td>\n",
              "      <td>0</td>\n",
              "      <td>0</td>\n",
              "      <td>0</td>\n",
              "      <td>0</td>\n",
              "    </tr>\n",
              "    <tr>\n",
              "      <th>69</th>\n",
              "      <td>0</td>\n",
              "      <td>0</td>\n",
              "      <td>0</td>\n",
              "      <td>0</td>\n",
              "      <td>0</td>\n",
              "      <td>0</td>\n",
              "      <td>0</td>\n",
              "      <td>0</td>\n",
              "      <td>0</td>\n",
              "      <td>0</td>\n",
              "      <td>0</td>\n",
              "      <td>0</td>\n",
              "      <td>0</td>\n",
              "      <td>0</td>\n",
              "      <td>0</td>\n",
              "      <td>0</td>\n",
              "      <td>0</td>\n",
              "      <td>1</td>\n",
              "      <td>0</td>\n",
              "      <td>0</td>\n",
              "      <td>0</td>\n",
              "      <td>0</td>\n",
              "      <td>1</td>\n",
              "      <td>0</td>\n",
              "      <td>0</td>\n",
              "      <td>0</td>\n",
              "    </tr>\n",
              "    <tr>\n",
              "      <th>70</th>\n",
              "      <td>0</td>\n",
              "      <td>0</td>\n",
              "      <td>0</td>\n",
              "      <td>0</td>\n",
              "      <td>0</td>\n",
              "      <td>0</td>\n",
              "      <td>0</td>\n",
              "      <td>0</td>\n",
              "      <td>0</td>\n",
              "      <td>1</td>\n",
              "      <td>0</td>\n",
              "      <td>0</td>\n",
              "      <td>0</td>\n",
              "      <td>0</td>\n",
              "      <td>0</td>\n",
              "      <td>0</td>\n",
              "      <td>0</td>\n",
              "      <td>0</td>\n",
              "      <td>0</td>\n",
              "      <td>0</td>\n",
              "      <td>0</td>\n",
              "      <td>0</td>\n",
              "      <td>1</td>\n",
              "      <td>0</td>\n",
              "      <td>0</td>\n",
              "      <td>0</td>\n",
              "    </tr>\n",
              "    <tr>\n",
              "      <th>71</th>\n",
              "      <td>0</td>\n",
              "      <td>0</td>\n",
              "      <td>0</td>\n",
              "      <td>0</td>\n",
              "      <td>0</td>\n",
              "      <td>0</td>\n",
              "      <td>0</td>\n",
              "      <td>0</td>\n",
              "      <td>0</td>\n",
              "      <td>0</td>\n",
              "      <td>0</td>\n",
              "      <td>0</td>\n",
              "      <td>0</td>\n",
              "      <td>0</td>\n",
              "      <td>0</td>\n",
              "      <td>0</td>\n",
              "      <td>0</td>\n",
              "      <td>1</td>\n",
              "      <td>0</td>\n",
              "      <td>0</td>\n",
              "      <td>0</td>\n",
              "      <td>0</td>\n",
              "      <td>1</td>\n",
              "      <td>0</td>\n",
              "      <td>0</td>\n",
              "      <td>0</td>\n",
              "    </tr>\n",
              "    <tr>\n",
              "      <th>72</th>\n",
              "      <td>0</td>\n",
              "      <td>0</td>\n",
              "      <td>0</td>\n",
              "      <td>0</td>\n",
              "      <td>0</td>\n",
              "      <td>0</td>\n",
              "      <td>0</td>\n",
              "      <td>0</td>\n",
              "      <td>1</td>\n",
              "      <td>0</td>\n",
              "      <td>0</td>\n",
              "      <td>0</td>\n",
              "      <td>0</td>\n",
              "      <td>0</td>\n",
              "      <td>0</td>\n",
              "      <td>0</td>\n",
              "      <td>0</td>\n",
              "      <td>0</td>\n",
              "      <td>0</td>\n",
              "      <td>0</td>\n",
              "      <td>0</td>\n",
              "      <td>0</td>\n",
              "      <td>1</td>\n",
              "      <td>0</td>\n",
              "      <td>0</td>\n",
              "      <td>0</td>\n",
              "    </tr>\n",
              "  </tbody>\n",
              "</table>\n",
              "<p>73 rows × 26 columns</p>\n",
              "</div>"
            ],
            "text/plain": [
              "    Director_Alan Taylor  ...  Writer_1_Vanessa Taylor\n",
              "0                      0  ...                        0\n",
              "1                      0  ...                        0\n",
              "2                      0  ...                        0\n",
              "3                      0  ...                        0\n",
              "4                      0  ...                        0\n",
              "..                   ...  ...                      ...\n",
              "68                     0  ...                        0\n",
              "69                     0  ...                        0\n",
              "70                     0  ...                        0\n",
              "71                     0  ...                        0\n",
              "72                     0  ...                        0\n",
              "\n",
              "[73 rows x 26 columns]"
            ]
          },
          "metadata": {
            "tags": []
          },
          "execution_count": 27
        }
      ]
    },
    {
      "cell_type": "markdown",
      "metadata": {
        "id": "OuvaOT5KkZye"
      },
      "source": [
        "### Exploración de la descripción de los capítulos"
      ]
    },
    {
      "cell_type": "code",
      "metadata": {
        "id": "tn9nm_Z9kUkK",
        "outputId": "5b37f9ce-01f0-4188-e2d8-25b59c9a78c6",
        "colab": {
          "base_uri": "https://localhost:8080/",
          "height": 221
        }
      },
      "source": [
        "df['IMDB Description']"
      ],
      "execution_count": 28,
      "outputs": [
        {
          "output_type": "execute_result",
          "data": {
            "text/plain": [
              "0     Jon Arryn, the Hand of the King, is dead. King...\n",
              "1     While Bran recovers from his fall, Ned takes o...\n",
              "2     Lord Stark and his daughters arrive at King's ...\n",
              "3     Eddard investigates Jon Arryn's murder. Jon be...\n",
              "4     Catelyn has captured Tyrion and plans to bring...\n",
              "                            ...                        \n",
              "68    Jaime faces judgment and Winterfell prepares f...\n",
              "69    The Night King and his army have arrived at Wi...\n",
              "70    The Battle of Winterfell is over and a new cha...\n",
              "71    Forces have arrived at King's Landing for the ...\n",
              "72    In the aftermath of the devastating attack on ...\n",
              "Name: IMDB Description, Length: 73, dtype: object"
            ]
          },
          "metadata": {
            "tags": []
          },
          "execution_count": 28
        }
      ]
    },
    {
      "cell_type": "code",
      "metadata": {
        "id": "AEnnhJ7ekYde",
        "outputId": "68ece5dd-a3db-4fbc-f8f7-473fc3d639bd",
        "colab": {
          "base_uri": "https://localhost:8080/",
          "height": 170
        }
      },
      "source": [
        "df['IMDB Description'].str.len().describe()"
      ],
      "execution_count": 29,
      "outputs": [
        {
          "output_type": "execute_result",
          "data": {
            "text/plain": [
              "count     73.000000\n",
              "mean     178.986301\n",
              "std       45.301917\n",
              "min       59.000000\n",
              "25%      163.000000\n",
              "50%      188.000000\n",
              "75%      212.000000\n",
              "max      238.000000\n",
              "Name: IMDB Description, dtype: float64"
            ]
          },
          "metadata": {
            "tags": []
          },
          "execution_count": 29
        }
      ]
    },
    {
      "cell_type": "code",
      "metadata": {
        "id": "1jVF9VSjkrce",
        "outputId": "867e1ac6-de54-4309-bf67-6258f6d45751",
        "colab": {
          "base_uri": "https://localhost:8080/",
          "height": 35
        }
      },
      "source": [
        "# Ver la descripción que tiene elmenor  número de caractéres\n",
        "shortest_des = df['IMDB Description'].index[df['IMDB Description'].str.len() == 59][0]\n",
        "df['IMDB Description'][shortest_des]"
      ],
      "execution_count": 30,
      "outputs": [
        {
          "output_type": "execute_result",
          "data": {
            "application/vnd.google.colaboratory.intrinsic+json": {
              "type": "string"
            },
            "text/plain": [
              "\"Forces have arrived at King's Landing for the final battle.\""
            ]
          },
          "metadata": {
            "tags": []
          },
          "execution_count": 30
        }
      ]
    },
    {
      "cell_type": "code",
      "metadata": {
        "id": "xIsNizPNkkAf",
        "outputId": "288d0921-42d0-4b07-c302-90eb794e7ccb",
        "colab": {
          "base_uri": "https://localhost:8080/",
          "height": 69
        }
      },
      "source": [
        "# Ver la descripción que tiene el mayor número de caractéres\n",
        "longest_des = df['IMDB Description'].index[df['IMDB Description'].str.len() == 238][0]\n",
        "df['IMDB Description'][longest_des]"
      ],
      "execution_count": 31,
      "outputs": [
        {
          "output_type": "execute_result",
          "data": {
            "application/vnd.google.colaboratory.intrinsic+json": {
              "type": "string"
            },
            "text/plain": [
              "\"Tyrion arrives at King's Landing to take his father's place as Hand of the King. Stannis Baratheon plans to take the Iron Throne for his own. Robb tries to decide his next move in the war. The Night's Watch arrive at the house of Craster.\""
            ]
          },
          "metadata": {
            "tags": []
          },
          "execution_count": 31
        }
      ]
    },
    {
      "cell_type": "markdown",
      "metadata": {
        "id": "Z2pI7oH5tAH9"
      },
      "source": [
        "# Preprocesamiento de texto"
      ]
    },
    {
      "cell_type": "code",
      "metadata": {
        "id": "JxYl8KVtudAk",
        "outputId": "b5aab8e0-c93d-4eae-e4c8-62e53ab66eba",
        "colab": {
          "base_uri": "https://localhost:8080/",
          "height": 0
        }
      },
      "source": [
        "ejemplo = df['IMDB Description'][longest_des]\n",
        "ejemplo"
      ],
      "execution_count": 32,
      "outputs": [
        {
          "output_type": "execute_result",
          "data": {
            "application/vnd.google.colaboratory.intrinsic+json": {
              "type": "string"
            },
            "text/plain": [
              "\"Tyrion arrives at King's Landing to take his father's place as Hand of the King. Stannis Baratheon plans to take the Iron Throne for his own. Robb tries to decide his next move in the war. The Night's Watch arrive at the house of Craster.\""
            ]
          },
          "metadata": {
            "tags": []
          },
          "execution_count": 32
        }
      ]
    },
    {
      "cell_type": "markdown",
      "metadata": {
        "id": "CYZO4qz9tDdD"
      },
      "source": [
        "#### Transformar texto a minúsculas"
      ]
    },
    {
      "cell_type": "code",
      "metadata": {
        "id": "l9_may3QtHpT",
        "outputId": "c7f75db1-8e95-46c7-d71c-6e8e5e37471d",
        "colab": {
          "base_uri": "https://localhost:8080/",
          "height": 0
        }
      },
      "source": [
        "ejemplo = ejemplo.lower()\n",
        "ejemplo"
      ],
      "execution_count": 33,
      "outputs": [
        {
          "output_type": "execute_result",
          "data": {
            "application/vnd.google.colaboratory.intrinsic+json": {
              "type": "string"
            },
            "text/plain": [
              "\"tyrion arrives at king's landing to take his father's place as hand of the king. stannis baratheon plans to take the iron throne for his own. robb tries to decide his next move in the war. the night's watch arrive at the house of craster.\""
            ]
          },
          "metadata": {
            "tags": []
          },
          "execution_count": 33
        }
      ]
    },
    {
      "cell_type": "markdown",
      "metadata": {
        "id": "FJfeT1uwtIHT"
      },
      "source": [
        "#### Quitar puntuación"
      ]
    },
    {
      "cell_type": "code",
      "metadata": {
        "id": "3dYvCI1ntQWc",
        "outputId": "2c94c94f-2cdf-4a77-bca9-72d3fe6785bd",
        "colab": {
          "base_uri": "https://localhost:8080/",
          "height": 0
        }
      },
      "source": [
        "ejemplo = elimina_puntuacion(ejemplo)\n",
        "ejemplo"
      ],
      "execution_count": 34,
      "outputs": [
        {
          "output_type": "execute_result",
          "data": {
            "application/vnd.google.colaboratory.intrinsic+json": {
              "type": "string"
            },
            "text/plain": [
              "'tyrion arrives at kings landing to take his fathers place as hand of the king stannis baratheon plans to take the iron throne for his own robb tries to decide his next move in the war the nights watch arrive at the house of craster'"
            ]
          },
          "metadata": {
            "tags": []
          },
          "execution_count": 34
        }
      ]
    },
    {
      "cell_type": "markdown",
      "metadata": {
        "id": "RWpEiJcDtTHO"
      },
      "source": [
        "#### Quitar Palabras Irrelevantes (\"Stopwords\")"
      ]
    },
    {
      "cell_type": "code",
      "metadata": {
        "id": "5Rt-PGKdtTmN",
        "outputId": "afc664d3-c7e5-4728-9871-22fc973bb8db",
        "colab": {
          "base_uri": "https://localhost:8080/",
          "height": 0
        }
      },
      "source": [
        "ejemplo = elimina_stopwords(ejemplo)\n",
        "ejemplo"
      ],
      "execution_count": 35,
      "outputs": [
        {
          "output_type": "execute_result",
          "data": {
            "application/vnd.google.colaboratory.intrinsic+json": {
              "type": "string"
            },
            "text/plain": [
              "'tyrion arrives kings landing take fathers place hand king stannis baratheon plans take iron throne robb tries decide next move war nights watch arrive house craster'"
            ]
          },
          "metadata": {
            "tags": []
          },
          "execution_count": 35
        }
      ]
    },
    {
      "cell_type": "markdown",
      "metadata": {
        "id": "FqT5lRXW585j"
      },
      "source": [
        "## Normalización\n",
        "Existen dos principales técnicas para normalizar el texto, la lematización y \"radicalización\" o stemming, que consiste en la  conversión de palabras en las raices\n",
        "\n",
        "Referencia: \n",
        "\n",
        "https://towardsdatascience.com/introduction-to-nlp-part-2-difference-between-lemmatisation-and-stemming-3789be1c55bc"
      ]
    },
    {
      "cell_type": "code",
      "metadata": {
        "id": "WIFwWnuQCrH2",
        "outputId": "31fed68d-6c31-4745-b418-d427d3e37918",
        "colab": {
          "base_uri": "https://localhost:8080/",
          "height": 0
        }
      },
      "source": [
        "ejemplo_lema = lematizar(ejemplo)\n",
        "ejemplo_lema"
      ],
      "execution_count": 36,
      "outputs": [
        {
          "output_type": "execute_result",
          "data": {
            "application/vnd.google.colaboratory.intrinsic+json": {
              "type": "string"
            },
            "text/plain": [
              "'tyrion arrives king landing take father place hand king stannis baratheon plan take iron throne robb try decide next move war night watch arrive house craster'"
            ]
          },
          "metadata": {
            "tags": []
          },
          "execution_count": 36
        }
      ]
    },
    {
      "cell_type": "code",
      "metadata": {
        "id": "vaNcLBVtFrpG",
        "outputId": "1915fb58-7eb6-4a61-c6ec-cfb3027765a1",
        "colab": {
          "base_uri": "https://localhost:8080/",
          "height": 0
        }
      },
      "source": [
        "ejemplo_stem = stemmer(ejemplo)\n",
        "ejemplo_stem"
      ],
      "execution_count": 37,
      "outputs": [
        {
          "output_type": "execute_result",
          "data": {
            "application/vnd.google.colaboratory.intrinsic+json": {
              "type": "string"
            },
            "text/plain": [
              "'tyrion arriv king land take father place hand king stanni baratheon plan take iron throne robb tri decid next move war night watch arriv hous craster'"
            ]
          },
          "metadata": {
            "tags": []
          },
          "execution_count": 37
        }
      ]
    },
    {
      "cell_type": "markdown",
      "metadata": {
        "id": "ANZQqWl2QkCx"
      },
      "source": [
        "## Todo junto"
      ]
    },
    {
      "cell_type": "code",
      "metadata": {
        "id": "ExtHv1pNQhj8",
        "outputId": "d3131603-d2b2-4120-853e-87a4cf7082e0",
        "colab": {
          "base_uri": "https://localhost:8080/",
          "height": 0
        }
      },
      "source": [
        "df['IMDB Description_pp'] = df['IMDB Description'].apply(preprocesar)\n",
        "df['IMDB Description_pp'].head()"
      ],
      "execution_count": 38,
      "outputs": [
        {
          "output_type": "execute_result",
          "data": {
            "text/plain": [
              "0    jon arryn hand king dead king robert baratheon...\n",
              "1    bran recov fall ned take daughter king land jo...\n",
              "2    lord stark daughter arriv king land discov int...\n",
              "3    eddard investig jon arryn murder jon befriend ...\n",
              "4    catelyn captur tyrion plan bring sister lysa a...\n",
              "Name: IMDB Description_pp, dtype: object"
            ]
          },
          "metadata": {
            "tags": []
          },
          "execution_count": 38
        }
      ]
    },
    {
      "cell_type": "markdown",
      "metadata": {
        "id": "DhKHuotMRvuO"
      },
      "source": [
        "# Vectorización del texto"
      ]
    },
    {
      "cell_type": "code",
      "metadata": {
        "id": "vy4wGZHSUFXE",
        "outputId": "c854200d-02f6-499f-d81c-0e6a5d8d76bd",
        "colab": {
          "base_uri": "https://localhost:8080/",
          "height": 221
        }
      },
      "source": [
        "Corpus = df['IMDB Description_pp']\n",
        "Corpus\n"
      ],
      "execution_count": 39,
      "outputs": [
        {
          "output_type": "execute_result",
          "data": {
            "text/plain": [
              "0     jon arryn hand king dead king robert baratheon...\n",
              "1     bran recov fall ned take daughter king land jo...\n",
              "2     lord stark daughter arriv king land discov int...\n",
              "3     eddard investig jon arryn murder jon befriend ...\n",
              "4     catelyn captur tyrion plan bring sister lysa a...\n",
              "                            ...                        \n",
              "68       jaim face judgment winterfel prepar battl come\n",
              "69    night king armi arriv winterfel great battl begin\n",
              "70            battl winterfel new chapter westero begin\n",
              "71                     forc arriv king land final battl\n",
              "72    aftermath devast attack king land daeneri must...\n",
              "Name: IMDB Description_pp, Length: 73, dtype: object"
            ]
          },
          "metadata": {
            "tags": []
          },
          "execution_count": 39
        }
      ]
    },
    {
      "cell_type": "markdown",
      "metadata": {
        "id": "xrpIJNddUR05"
      },
      "source": [
        "## Bolsa de palabras del corpus con frecuencias de palabras en documentos"
      ]
    },
    {
      "cell_type": "code",
      "metadata": {
        "id": "XkmcL4ilD9k4",
        "outputId": "61d881b7-02ab-4909-a802-74622f53ce44",
        "colab": {
          "base_uri": "https://localhost:8080/",
          "height": 34
        }
      },
      "source": [
        " #inicializa \n",
        "cv = CountVectorizer()\n",
        "\n",
        "#obtiene el diccionario de palabras y la matriz documento-termino\n",
        "mdt_frec = cv.fit_transform(Corpus) \n",
        "                                                         \n",
        "mdt_frec.shape"
      ],
      "execution_count": 40,
      "outputs": [
        {
          "output_type": "execute_result",
          "data": {
            "text/plain": [
              "(73, 521)"
            ]
          },
          "metadata": {
            "tags": []
          },
          "execution_count": 40
        }
      ]
    },
    {
      "cell_type": "code",
      "metadata": {
        "id": "Qtd-iJRZSCzC",
        "outputId": "f3ec8080-2f99-42e4-dc98-5f426d39ff96",
        "colab": {
          "base_uri": "https://localhost:8080/",
          "height": 253
        }
      },
      "source": [
        "terminos = cv.get_feature_names()\n",
        "mdt_frecuencia = pd.DataFrame(mdt_frec.todense(), \n",
        "                              index=Corpus.index, \n",
        "                              columns=terminos)\n",
        "mdt_frecuencia.head()"
      ],
      "execution_count": 41,
      "outputs": [
        {
          "output_type": "execute_result",
          "data": {
            "text/html": [
              "<div>\n",
              "<style scoped>\n",
              "    .dataframe tbody tr th:only-of-type {\n",
              "        vertical-align: middle;\n",
              "    }\n",
              "\n",
              "    .dataframe tbody tr th {\n",
              "        vertical-align: top;\n",
              "    }\n",
              "\n",
              "    .dataframe thead th {\n",
              "        text-align: right;\n",
              "    }\n",
              "</style>\n",
              "<table border=\"1\" class=\"dataframe\">\n",
              "  <thead>\n",
              "    <tr style=\"text-align: right;\">\n",
              "      <th></th>\n",
              "      <th>achiev</th>\n",
              "      <th>across</th>\n",
              "      <th>action</th>\n",
              "      <th>adapt</th>\n",
              "      <th>adjust</th>\n",
              "      <th>advic</th>\n",
              "      <th>advis</th>\n",
              "      <th>aftermath</th>\n",
              "      <th>aim</th>\n",
              "      <th>alli</th>\n",
              "      <th>alongsid</th>\n",
              "      <th>anoth</th>\n",
              "      <th>anyon</th>\n",
              "      <th>anyth</th>\n",
              "      <th>apart</th>\n",
              "      <th>aris</th>\n",
              "      <th>armi</th>\n",
              "      <th>arrest</th>\n",
              "      <th>arriv</th>\n",
              "      <th>arryn</th>\n",
              "      <th>arya</th>\n",
              "      <th>asid</th>\n",
              "      <th>ask</th>\n",
              "      <th>attack</th>\n",
              "      <th>attend</th>\n",
              "      <th>await</th>\n",
              "      <th>away</th>\n",
              "      <th>back</th>\n",
              "      <th>baelish</th>\n",
              "      <th>bank</th>\n",
              "      <th>baratheon</th>\n",
              "      <th>battl</th>\n",
              "      <th>becom</th>\n",
              "      <th>befriend</th>\n",
              "      <th>begin</th>\n",
              "      <th>behind</th>\n",
              "      <th>benjen</th>\n",
              "      <th>betray</th>\n",
              "      <th>beyond</th>\n",
              "      <th>black</th>\n",
              "      <th>...</th>\n",
              "      <th>use</th>\n",
              "      <th>vae</th>\n",
              "      <th>vale</th>\n",
              "      <th>valyria</th>\n",
              "      <th>vanquish</th>\n",
              "      <th>vari</th>\n",
              "      <th>viseri</th>\n",
              "      <th>visit</th>\n",
              "      <th>visitor</th>\n",
              "      <th>volanti</th>\n",
              "      <th>vow</th>\n",
              "      <th>walker</th>\n",
              "      <th>wall</th>\n",
              "      <th>war</th>\n",
              "      <th>warlord</th>\n",
              "      <th>warn</th>\n",
              "      <th>watch</th>\n",
              "      <th>watchmen</th>\n",
              "      <th>way</th>\n",
              "      <th>weapon</th>\n",
              "      <th>wed</th>\n",
              "      <th>weirwood</th>\n",
              "      <th>welcom</th>\n",
              "      <th>westero</th>\n",
              "      <th>whereabout</th>\n",
              "      <th>white</th>\n",
              "      <th>wight</th>\n",
              "      <th>wilder</th>\n",
              "      <th>wildl</th>\n",
              "      <th>win</th>\n",
              "      <th>winterfel</th>\n",
              "      <th>without</th>\n",
              "      <th>word</th>\n",
              "      <th>world</th>\n",
              "      <th>worth</th>\n",
              "      <th>wound</th>\n",
              "      <th>yara</th>\n",
              "      <th>ygritt</th>\n",
              "      <th>yunkai</th>\n",
              "      <th>zo</th>\n",
              "    </tr>\n",
              "  </thead>\n",
              "  <tbody>\n",
              "    <tr>\n",
              "      <th>0</th>\n",
              "      <td>0</td>\n",
              "      <td>1</td>\n",
              "      <td>0</td>\n",
              "      <td>0</td>\n",
              "      <td>0</td>\n",
              "      <td>0</td>\n",
              "      <td>0</td>\n",
              "      <td>0</td>\n",
              "      <td>0</td>\n",
              "      <td>0</td>\n",
              "      <td>0</td>\n",
              "      <td>0</td>\n",
              "      <td>0</td>\n",
              "      <td>0</td>\n",
              "      <td>0</td>\n",
              "      <td>0</td>\n",
              "      <td>1</td>\n",
              "      <td>0</td>\n",
              "      <td>0</td>\n",
              "      <td>1</td>\n",
              "      <td>0</td>\n",
              "      <td>0</td>\n",
              "      <td>1</td>\n",
              "      <td>0</td>\n",
              "      <td>0</td>\n",
              "      <td>0</td>\n",
              "      <td>0</td>\n",
              "      <td>0</td>\n",
              "      <td>0</td>\n",
              "      <td>0</td>\n",
              "      <td>1</td>\n",
              "      <td>0</td>\n",
              "      <td>0</td>\n",
              "      <td>0</td>\n",
              "      <td>0</td>\n",
              "      <td>0</td>\n",
              "      <td>0</td>\n",
              "      <td>0</td>\n",
              "      <td>0</td>\n",
              "      <td>0</td>\n",
              "      <td>...</td>\n",
              "      <td>0</td>\n",
              "      <td>0</td>\n",
              "      <td>0</td>\n",
              "      <td>0</td>\n",
              "      <td>0</td>\n",
              "      <td>0</td>\n",
              "      <td>1</td>\n",
              "      <td>0</td>\n",
              "      <td>0</td>\n",
              "      <td>0</td>\n",
              "      <td>0</td>\n",
              "      <td>0</td>\n",
              "      <td>0</td>\n",
              "      <td>0</td>\n",
              "      <td>1</td>\n",
              "      <td>0</td>\n",
              "      <td>0</td>\n",
              "      <td>0</td>\n",
              "      <td>0</td>\n",
              "      <td>0</td>\n",
              "      <td>1</td>\n",
              "      <td>0</td>\n",
              "      <td>0</td>\n",
              "      <td>0</td>\n",
              "      <td>0</td>\n",
              "      <td>0</td>\n",
              "      <td>0</td>\n",
              "      <td>0</td>\n",
              "      <td>0</td>\n",
              "      <td>0</td>\n",
              "      <td>0</td>\n",
              "      <td>0</td>\n",
              "      <td>0</td>\n",
              "      <td>0</td>\n",
              "      <td>0</td>\n",
              "      <td>0</td>\n",
              "      <td>0</td>\n",
              "      <td>0</td>\n",
              "      <td>0</td>\n",
              "      <td>0</td>\n",
              "    </tr>\n",
              "    <tr>\n",
              "      <th>1</th>\n",
              "      <td>0</td>\n",
              "      <td>0</td>\n",
              "      <td>0</td>\n",
              "      <td>0</td>\n",
              "      <td>0</td>\n",
              "      <td>0</td>\n",
              "      <td>0</td>\n",
              "      <td>0</td>\n",
              "      <td>0</td>\n",
              "      <td>0</td>\n",
              "      <td>0</td>\n",
              "      <td>0</td>\n",
              "      <td>0</td>\n",
              "      <td>0</td>\n",
              "      <td>0</td>\n",
              "      <td>0</td>\n",
              "      <td>0</td>\n",
              "      <td>0</td>\n",
              "      <td>0</td>\n",
              "      <td>0</td>\n",
              "      <td>0</td>\n",
              "      <td>0</td>\n",
              "      <td>0</td>\n",
              "      <td>0</td>\n",
              "      <td>0</td>\n",
              "      <td>0</td>\n",
              "      <td>0</td>\n",
              "      <td>0</td>\n",
              "      <td>0</td>\n",
              "      <td>0</td>\n",
              "      <td>0</td>\n",
              "      <td>0</td>\n",
              "      <td>0</td>\n",
              "      <td>0</td>\n",
              "      <td>0</td>\n",
              "      <td>0</td>\n",
              "      <td>1</td>\n",
              "      <td>0</td>\n",
              "      <td>0</td>\n",
              "      <td>0</td>\n",
              "      <td>...</td>\n",
              "      <td>0</td>\n",
              "      <td>0</td>\n",
              "      <td>0</td>\n",
              "      <td>0</td>\n",
              "      <td>0</td>\n",
              "      <td>0</td>\n",
              "      <td>0</td>\n",
              "      <td>0</td>\n",
              "      <td>0</td>\n",
              "      <td>0</td>\n",
              "      <td>0</td>\n",
              "      <td>0</td>\n",
              "      <td>1</td>\n",
              "      <td>0</td>\n",
              "      <td>0</td>\n",
              "      <td>0</td>\n",
              "      <td>0</td>\n",
              "      <td>0</td>\n",
              "      <td>0</td>\n",
              "      <td>0</td>\n",
              "      <td>0</td>\n",
              "      <td>0</td>\n",
              "      <td>0</td>\n",
              "      <td>0</td>\n",
              "      <td>0</td>\n",
              "      <td>0</td>\n",
              "      <td>0</td>\n",
              "      <td>0</td>\n",
              "      <td>0</td>\n",
              "      <td>0</td>\n",
              "      <td>0</td>\n",
              "      <td>0</td>\n",
              "      <td>0</td>\n",
              "      <td>0</td>\n",
              "      <td>0</td>\n",
              "      <td>0</td>\n",
              "      <td>0</td>\n",
              "      <td>0</td>\n",
              "      <td>0</td>\n",
              "      <td>0</td>\n",
              "    </tr>\n",
              "    <tr>\n",
              "      <th>2</th>\n",
              "      <td>0</td>\n",
              "      <td>0</td>\n",
              "      <td>0</td>\n",
              "      <td>0</td>\n",
              "      <td>0</td>\n",
              "      <td>0</td>\n",
              "      <td>0</td>\n",
              "      <td>0</td>\n",
              "      <td>0</td>\n",
              "      <td>0</td>\n",
              "      <td>0</td>\n",
              "      <td>0</td>\n",
              "      <td>0</td>\n",
              "      <td>0</td>\n",
              "      <td>0</td>\n",
              "      <td>0</td>\n",
              "      <td>0</td>\n",
              "      <td>0</td>\n",
              "      <td>1</td>\n",
              "      <td>0</td>\n",
              "      <td>0</td>\n",
              "      <td>0</td>\n",
              "      <td>0</td>\n",
              "      <td>0</td>\n",
              "      <td>0</td>\n",
              "      <td>0</td>\n",
              "      <td>0</td>\n",
              "      <td>0</td>\n",
              "      <td>0</td>\n",
              "      <td>0</td>\n",
              "      <td>0</td>\n",
              "      <td>0</td>\n",
              "      <td>0</td>\n",
              "      <td>0</td>\n",
              "      <td>0</td>\n",
              "      <td>0</td>\n",
              "      <td>0</td>\n",
              "      <td>0</td>\n",
              "      <td>0</td>\n",
              "      <td>0</td>\n",
              "      <td>...</td>\n",
              "      <td>0</td>\n",
              "      <td>0</td>\n",
              "      <td>0</td>\n",
              "      <td>0</td>\n",
              "      <td>0</td>\n",
              "      <td>0</td>\n",
              "      <td>0</td>\n",
              "      <td>0</td>\n",
              "      <td>0</td>\n",
              "      <td>0</td>\n",
              "      <td>0</td>\n",
              "      <td>0</td>\n",
              "      <td>0</td>\n",
              "      <td>0</td>\n",
              "      <td>0</td>\n",
              "      <td>0</td>\n",
              "      <td>0</td>\n",
              "      <td>0</td>\n",
              "      <td>0</td>\n",
              "      <td>0</td>\n",
              "      <td>0</td>\n",
              "      <td>0</td>\n",
              "      <td>0</td>\n",
              "      <td>0</td>\n",
              "      <td>0</td>\n",
              "      <td>0</td>\n",
              "      <td>0</td>\n",
              "      <td>0</td>\n",
              "      <td>0</td>\n",
              "      <td>0</td>\n",
              "      <td>0</td>\n",
              "      <td>0</td>\n",
              "      <td>0</td>\n",
              "      <td>0</td>\n",
              "      <td>0</td>\n",
              "      <td>0</td>\n",
              "      <td>0</td>\n",
              "      <td>0</td>\n",
              "      <td>0</td>\n",
              "      <td>0</td>\n",
              "    </tr>\n",
              "    <tr>\n",
              "      <th>3</th>\n",
              "      <td>0</td>\n",
              "      <td>0</td>\n",
              "      <td>0</td>\n",
              "      <td>0</td>\n",
              "      <td>0</td>\n",
              "      <td>0</td>\n",
              "      <td>0</td>\n",
              "      <td>0</td>\n",
              "      <td>0</td>\n",
              "      <td>0</td>\n",
              "      <td>0</td>\n",
              "      <td>0</td>\n",
              "      <td>0</td>\n",
              "      <td>0</td>\n",
              "      <td>0</td>\n",
              "      <td>0</td>\n",
              "      <td>0</td>\n",
              "      <td>0</td>\n",
              "      <td>0</td>\n",
              "      <td>1</td>\n",
              "      <td>0</td>\n",
              "      <td>0</td>\n",
              "      <td>0</td>\n",
              "      <td>0</td>\n",
              "      <td>0</td>\n",
              "      <td>0</td>\n",
              "      <td>0</td>\n",
              "      <td>0</td>\n",
              "      <td>0</td>\n",
              "      <td>0</td>\n",
              "      <td>0</td>\n",
              "      <td>0</td>\n",
              "      <td>0</td>\n",
              "      <td>1</td>\n",
              "      <td>0</td>\n",
              "      <td>0</td>\n",
              "      <td>0</td>\n",
              "      <td>0</td>\n",
              "      <td>0</td>\n",
              "      <td>0</td>\n",
              "      <td>...</td>\n",
              "      <td>0</td>\n",
              "      <td>0</td>\n",
              "      <td>0</td>\n",
              "      <td>0</td>\n",
              "      <td>0</td>\n",
              "      <td>0</td>\n",
              "      <td>0</td>\n",
              "      <td>0</td>\n",
              "      <td>0</td>\n",
              "      <td>0</td>\n",
              "      <td>0</td>\n",
              "      <td>0</td>\n",
              "      <td>0</td>\n",
              "      <td>0</td>\n",
              "      <td>0</td>\n",
              "      <td>0</td>\n",
              "      <td>1</td>\n",
              "      <td>0</td>\n",
              "      <td>0</td>\n",
              "      <td>0</td>\n",
              "      <td>0</td>\n",
              "      <td>0</td>\n",
              "      <td>0</td>\n",
              "      <td>0</td>\n",
              "      <td>0</td>\n",
              "      <td>0</td>\n",
              "      <td>0</td>\n",
              "      <td>0</td>\n",
              "      <td>0</td>\n",
              "      <td>0</td>\n",
              "      <td>0</td>\n",
              "      <td>0</td>\n",
              "      <td>0</td>\n",
              "      <td>0</td>\n",
              "      <td>0</td>\n",
              "      <td>0</td>\n",
              "      <td>0</td>\n",
              "      <td>0</td>\n",
              "      <td>0</td>\n",
              "      <td>0</td>\n",
              "    </tr>\n",
              "    <tr>\n",
              "      <th>4</th>\n",
              "      <td>0</td>\n",
              "      <td>0</td>\n",
              "      <td>0</td>\n",
              "      <td>0</td>\n",
              "      <td>0</td>\n",
              "      <td>0</td>\n",
              "      <td>0</td>\n",
              "      <td>0</td>\n",
              "      <td>0</td>\n",
              "      <td>0</td>\n",
              "      <td>0</td>\n",
              "      <td>0</td>\n",
              "      <td>0</td>\n",
              "      <td>0</td>\n",
              "      <td>0</td>\n",
              "      <td>0</td>\n",
              "      <td>0</td>\n",
              "      <td>0</td>\n",
              "      <td>0</td>\n",
              "      <td>1</td>\n",
              "      <td>0</td>\n",
              "      <td>0</td>\n",
              "      <td>0</td>\n",
              "      <td>0</td>\n",
              "      <td>0</td>\n",
              "      <td>0</td>\n",
              "      <td>0</td>\n",
              "      <td>0</td>\n",
              "      <td>0</td>\n",
              "      <td>0</td>\n",
              "      <td>0</td>\n",
              "      <td>0</td>\n",
              "      <td>0</td>\n",
              "      <td>0</td>\n",
              "      <td>0</td>\n",
              "      <td>0</td>\n",
              "      <td>0</td>\n",
              "      <td>0</td>\n",
              "      <td>0</td>\n",
              "      <td>0</td>\n",
              "      <td>...</td>\n",
              "      <td>0</td>\n",
              "      <td>0</td>\n",
              "      <td>1</td>\n",
              "      <td>0</td>\n",
              "      <td>0</td>\n",
              "      <td>0</td>\n",
              "      <td>0</td>\n",
              "      <td>0</td>\n",
              "      <td>0</td>\n",
              "      <td>0</td>\n",
              "      <td>0</td>\n",
              "      <td>0</td>\n",
              "      <td>0</td>\n",
              "      <td>0</td>\n",
              "      <td>0</td>\n",
              "      <td>0</td>\n",
              "      <td>0</td>\n",
              "      <td>0</td>\n",
              "      <td>0</td>\n",
              "      <td>0</td>\n",
              "      <td>0</td>\n",
              "      <td>0</td>\n",
              "      <td>0</td>\n",
              "      <td>0</td>\n",
              "      <td>0</td>\n",
              "      <td>0</td>\n",
              "      <td>0</td>\n",
              "      <td>0</td>\n",
              "      <td>0</td>\n",
              "      <td>0</td>\n",
              "      <td>0</td>\n",
              "      <td>0</td>\n",
              "      <td>0</td>\n",
              "      <td>0</td>\n",
              "      <td>0</td>\n",
              "      <td>0</td>\n",
              "      <td>0</td>\n",
              "      <td>0</td>\n",
              "      <td>0</td>\n",
              "      <td>0</td>\n",
              "    </tr>\n",
              "  </tbody>\n",
              "</table>\n",
              "<p>5 rows × 521 columns</p>\n",
              "</div>"
            ],
            "text/plain": [
              "   achiev  across  action  adapt  adjust  ...  wound  yara  ygritt  yunkai  zo\n",
              "0       0       1       0      0       0  ...      0     0       0       0   0\n",
              "1       0       0       0      0       0  ...      0     0       0       0   0\n",
              "2       0       0       0      0       0  ...      0     0       0       0   0\n",
              "3       0       0       0      0       0  ...      0     0       0       0   0\n",
              "4       0       0       0      0       0  ...      0     0       0       0   0\n",
              "\n",
              "[5 rows x 521 columns]"
            ]
          },
          "metadata": {
            "tags": []
          },
          "execution_count": 41
        }
      ]
    },
    {
      "cell_type": "markdown",
      "metadata": {
        "id": "veXyYzswTi6t"
      },
      "source": [
        "## Bolsa de palabras del corpus con TFIDF \n",
        "(Term Frecuecy-Inverse Document Frecuency)\n",
        "\n",
        "Referencia: https://towardsdatascience.com/text-vectorization-term-frequency-inverse-document-frequency-tfidf-5a3f9604da6d"
      ]
    },
    {
      "cell_type": "code",
      "metadata": {
        "id": "g26ef5TkUi1v",
        "outputId": "f2ef50df-11c3-4103-fc4f-9d4dcad34d64",
        "colab": {
          "base_uri": "https://localhost:8080/",
          "height": 34
        }
      },
      "source": [
        "#idf (inverse document frecuency)  \n",
        "# número de documentos/ numero de documentos con un termino\n",
        "\n",
        "tf = TfidfVectorizer()\n",
        "#obtiene el diccionario de palabras y la matriz documento-termino\n",
        "tfidf_matriz = tf.fit_transform(Corpus)\n",
        "tfidf_matriz.shape"
      ],
      "execution_count": 42,
      "outputs": [
        {
          "output_type": "execute_result",
          "data": {
            "text/plain": [
              "(73, 521)"
            ]
          },
          "metadata": {
            "tags": []
          },
          "execution_count": 42
        }
      ]
    },
    {
      "cell_type": "code",
      "metadata": {
        "id": "uRKdAeWyPjpE",
        "outputId": "d5d3a562-2d05-4e4c-8f0c-c4ffacbdbdad",
        "colab": {
          "base_uri": "https://localhost:8080/",
          "height": 253
        }
      },
      "source": [
        "terminos = tf.get_feature_names()\n",
        "mdt_tfidf = pd.DataFrame(tfidf_matriz.todense(), index=Corpus.index, columns=terminos)\n",
        "mdt_tfidf.head()"
      ],
      "execution_count": 43,
      "outputs": [
        {
          "output_type": "execute_result",
          "data": {
            "text/html": [
              "<div>\n",
              "<style scoped>\n",
              "    .dataframe tbody tr th:only-of-type {\n",
              "        vertical-align: middle;\n",
              "    }\n",
              "\n",
              "    .dataframe tbody tr th {\n",
              "        vertical-align: top;\n",
              "    }\n",
              "\n",
              "    .dataframe thead th {\n",
              "        text-align: right;\n",
              "    }\n",
              "</style>\n",
              "<table border=\"1\" class=\"dataframe\">\n",
              "  <thead>\n",
              "    <tr style=\"text-align: right;\">\n",
              "      <th></th>\n",
              "      <th>achiev</th>\n",
              "      <th>across</th>\n",
              "      <th>action</th>\n",
              "      <th>adapt</th>\n",
              "      <th>adjust</th>\n",
              "      <th>advic</th>\n",
              "      <th>advis</th>\n",
              "      <th>aftermath</th>\n",
              "      <th>aim</th>\n",
              "      <th>alli</th>\n",
              "      <th>alongsid</th>\n",
              "      <th>anoth</th>\n",
              "      <th>anyon</th>\n",
              "      <th>anyth</th>\n",
              "      <th>apart</th>\n",
              "      <th>aris</th>\n",
              "      <th>armi</th>\n",
              "      <th>arrest</th>\n",
              "      <th>arriv</th>\n",
              "      <th>arryn</th>\n",
              "      <th>arya</th>\n",
              "      <th>asid</th>\n",
              "      <th>ask</th>\n",
              "      <th>attack</th>\n",
              "      <th>attend</th>\n",
              "      <th>await</th>\n",
              "      <th>away</th>\n",
              "      <th>back</th>\n",
              "      <th>baelish</th>\n",
              "      <th>bank</th>\n",
              "      <th>baratheon</th>\n",
              "      <th>battl</th>\n",
              "      <th>becom</th>\n",
              "      <th>befriend</th>\n",
              "      <th>begin</th>\n",
              "      <th>behind</th>\n",
              "      <th>benjen</th>\n",
              "      <th>betray</th>\n",
              "      <th>beyond</th>\n",
              "      <th>black</th>\n",
              "      <th>...</th>\n",
              "      <th>use</th>\n",
              "      <th>vae</th>\n",
              "      <th>vale</th>\n",
              "      <th>valyria</th>\n",
              "      <th>vanquish</th>\n",
              "      <th>vari</th>\n",
              "      <th>viseri</th>\n",
              "      <th>visit</th>\n",
              "      <th>visitor</th>\n",
              "      <th>volanti</th>\n",
              "      <th>vow</th>\n",
              "      <th>walker</th>\n",
              "      <th>wall</th>\n",
              "      <th>war</th>\n",
              "      <th>warlord</th>\n",
              "      <th>warn</th>\n",
              "      <th>watch</th>\n",
              "      <th>watchmen</th>\n",
              "      <th>way</th>\n",
              "      <th>weapon</th>\n",
              "      <th>wed</th>\n",
              "      <th>weirwood</th>\n",
              "      <th>welcom</th>\n",
              "      <th>westero</th>\n",
              "      <th>whereabout</th>\n",
              "      <th>white</th>\n",
              "      <th>wight</th>\n",
              "      <th>wilder</th>\n",
              "      <th>wildl</th>\n",
              "      <th>win</th>\n",
              "      <th>winterfel</th>\n",
              "      <th>without</th>\n",
              "      <th>word</th>\n",
              "      <th>world</th>\n",
              "      <th>worth</th>\n",
              "      <th>wound</th>\n",
              "      <th>yara</th>\n",
              "      <th>ygritt</th>\n",
              "      <th>yunkai</th>\n",
              "      <th>zo</th>\n",
              "    </tr>\n",
              "  </thead>\n",
              "  <tbody>\n",
              "    <tr>\n",
              "      <th>0</th>\n",
              "      <td>0.0</td>\n",
              "      <td>0.224237</td>\n",
              "      <td>0.0</td>\n",
              "      <td>0.0</td>\n",
              "      <td>0.0</td>\n",
              "      <td>0.0</td>\n",
              "      <td>0.0</td>\n",
              "      <td>0.0</td>\n",
              "      <td>0.0</td>\n",
              "      <td>0.0</td>\n",
              "      <td>0.0</td>\n",
              "      <td>0.0</td>\n",
              "      <td>0.0</td>\n",
              "      <td>0.0</td>\n",
              "      <td>0.0</td>\n",
              "      <td>0.0</td>\n",
              "      <td>0.179676</td>\n",
              "      <td>0.0</td>\n",
              "      <td>0.000000</td>\n",
              "      <td>0.190528</td>\n",
              "      <td>0.0</td>\n",
              "      <td>0.0</td>\n",
              "      <td>0.17081</td>\n",
              "      <td>0.0</td>\n",
              "      <td>0.0</td>\n",
              "      <td>0.0</td>\n",
              "      <td>0.0</td>\n",
              "      <td>0.0</td>\n",
              "      <td>0.0</td>\n",
              "      <td>0.0</td>\n",
              "      <td>0.190528</td>\n",
              "      <td>0.0</td>\n",
              "      <td>0.0</td>\n",
              "      <td>0.000000</td>\n",
              "      <td>0.0</td>\n",
              "      <td>0.0</td>\n",
              "      <td>0.000000</td>\n",
              "      <td>0.0</td>\n",
              "      <td>0.0</td>\n",
              "      <td>0.0</td>\n",
              "      <td>...</td>\n",
              "      <td>0.0</td>\n",
              "      <td>0.0</td>\n",
              "      <td>0.000000</td>\n",
              "      <td>0.0</td>\n",
              "      <td>0.0</td>\n",
              "      <td>0.0</td>\n",
              "      <td>0.204519</td>\n",
              "      <td>0.0</td>\n",
              "      <td>0.0</td>\n",
              "      <td>0.0</td>\n",
              "      <td>0.0</td>\n",
              "      <td>0.0</td>\n",
              "      <td>0.00000</td>\n",
              "      <td>0.0</td>\n",
              "      <td>0.224237</td>\n",
              "      <td>0.0</td>\n",
              "      <td>0.000000</td>\n",
              "      <td>0.0</td>\n",
              "      <td>0.0</td>\n",
              "      <td>0.0</td>\n",
              "      <td>0.17081</td>\n",
              "      <td>0.0</td>\n",
              "      <td>0.0</td>\n",
              "      <td>0.0</td>\n",
              "      <td>0.0</td>\n",
              "      <td>0.0</td>\n",
              "      <td>0.0</td>\n",
              "      <td>0.0</td>\n",
              "      <td>0.0</td>\n",
              "      <td>0.0</td>\n",
              "      <td>0.0</td>\n",
              "      <td>0.0</td>\n",
              "      <td>0.0</td>\n",
              "      <td>0.0</td>\n",
              "      <td>0.0</td>\n",
              "      <td>0.0</td>\n",
              "      <td>0.0</td>\n",
              "      <td>0.0</td>\n",
              "      <td>0.0</td>\n",
              "      <td>0.0</td>\n",
              "    </tr>\n",
              "    <tr>\n",
              "      <th>1</th>\n",
              "      <td>0.0</td>\n",
              "      <td>0.000000</td>\n",
              "      <td>0.0</td>\n",
              "      <td>0.0</td>\n",
              "      <td>0.0</td>\n",
              "      <td>0.0</td>\n",
              "      <td>0.0</td>\n",
              "      <td>0.0</td>\n",
              "      <td>0.0</td>\n",
              "      <td>0.0</td>\n",
              "      <td>0.0</td>\n",
              "      <td>0.0</td>\n",
              "      <td>0.0</td>\n",
              "      <td>0.0</td>\n",
              "      <td>0.0</td>\n",
              "      <td>0.0</td>\n",
              "      <td>0.000000</td>\n",
              "      <td>0.0</td>\n",
              "      <td>0.000000</td>\n",
              "      <td>0.000000</td>\n",
              "      <td>0.0</td>\n",
              "      <td>0.0</td>\n",
              "      <td>0.00000</td>\n",
              "      <td>0.0</td>\n",
              "      <td>0.0</td>\n",
              "      <td>0.0</td>\n",
              "      <td>0.0</td>\n",
              "      <td>0.0</td>\n",
              "      <td>0.0</td>\n",
              "      <td>0.0</td>\n",
              "      <td>0.000000</td>\n",
              "      <td>0.0</td>\n",
              "      <td>0.0</td>\n",
              "      <td>0.000000</td>\n",
              "      <td>0.0</td>\n",
              "      <td>0.0</td>\n",
              "      <td>0.311019</td>\n",
              "      <td>0.0</td>\n",
              "      <td>0.0</td>\n",
              "      <td>0.0</td>\n",
              "      <td>...</td>\n",
              "      <td>0.0</td>\n",
              "      <td>0.0</td>\n",
              "      <td>0.000000</td>\n",
              "      <td>0.0</td>\n",
              "      <td>0.0</td>\n",
              "      <td>0.0</td>\n",
              "      <td>0.000000</td>\n",
              "      <td>0.0</td>\n",
              "      <td>0.0</td>\n",
              "      <td>0.0</td>\n",
              "      <td>0.0</td>\n",
              "      <td>0.0</td>\n",
              "      <td>0.21751</td>\n",
              "      <td>0.0</td>\n",
              "      <td>0.000000</td>\n",
              "      <td>0.0</td>\n",
              "      <td>0.000000</td>\n",
              "      <td>0.0</td>\n",
              "      <td>0.0</td>\n",
              "      <td>0.0</td>\n",
              "      <td>0.00000</td>\n",
              "      <td>0.0</td>\n",
              "      <td>0.0</td>\n",
              "      <td>0.0</td>\n",
              "      <td>0.0</td>\n",
              "      <td>0.0</td>\n",
              "      <td>0.0</td>\n",
              "      <td>0.0</td>\n",
              "      <td>0.0</td>\n",
              "      <td>0.0</td>\n",
              "      <td>0.0</td>\n",
              "      <td>0.0</td>\n",
              "      <td>0.0</td>\n",
              "      <td>0.0</td>\n",
              "      <td>0.0</td>\n",
              "      <td>0.0</td>\n",
              "      <td>0.0</td>\n",
              "      <td>0.0</td>\n",
              "      <td>0.0</td>\n",
              "      <td>0.0</td>\n",
              "    </tr>\n",
              "    <tr>\n",
              "      <th>2</th>\n",
              "      <td>0.0</td>\n",
              "      <td>0.000000</td>\n",
              "      <td>0.0</td>\n",
              "      <td>0.0</td>\n",
              "      <td>0.0</td>\n",
              "      <td>0.0</td>\n",
              "      <td>0.0</td>\n",
              "      <td>0.0</td>\n",
              "      <td>0.0</td>\n",
              "      <td>0.0</td>\n",
              "      <td>0.0</td>\n",
              "      <td>0.0</td>\n",
              "      <td>0.0</td>\n",
              "      <td>0.0</td>\n",
              "      <td>0.0</td>\n",
              "      <td>0.0</td>\n",
              "      <td>0.000000</td>\n",
              "      <td>0.0</td>\n",
              "      <td>0.186966</td>\n",
              "      <td>0.000000</td>\n",
              "      <td>0.0</td>\n",
              "      <td>0.0</td>\n",
              "      <td>0.00000</td>\n",
              "      <td>0.0</td>\n",
              "      <td>0.0</td>\n",
              "      <td>0.0</td>\n",
              "      <td>0.0</td>\n",
              "      <td>0.0</td>\n",
              "      <td>0.0</td>\n",
              "      <td>0.0</td>\n",
              "      <td>0.000000</td>\n",
              "      <td>0.0</td>\n",
              "      <td>0.0</td>\n",
              "      <td>0.000000</td>\n",
              "      <td>0.0</td>\n",
              "      <td>0.0</td>\n",
              "      <td>0.000000</td>\n",
              "      <td>0.0</td>\n",
              "      <td>0.0</td>\n",
              "      <td>0.0</td>\n",
              "      <td>...</td>\n",
              "      <td>0.0</td>\n",
              "      <td>0.0</td>\n",
              "      <td>0.000000</td>\n",
              "      <td>0.0</td>\n",
              "      <td>0.0</td>\n",
              "      <td>0.0</td>\n",
              "      <td>0.000000</td>\n",
              "      <td>0.0</td>\n",
              "      <td>0.0</td>\n",
              "      <td>0.0</td>\n",
              "      <td>0.0</td>\n",
              "      <td>0.0</td>\n",
              "      <td>0.00000</td>\n",
              "      <td>0.0</td>\n",
              "      <td>0.000000</td>\n",
              "      <td>0.0</td>\n",
              "      <td>0.000000</td>\n",
              "      <td>0.0</td>\n",
              "      <td>0.0</td>\n",
              "      <td>0.0</td>\n",
              "      <td>0.00000</td>\n",
              "      <td>0.0</td>\n",
              "      <td>0.0</td>\n",
              "      <td>0.0</td>\n",
              "      <td>0.0</td>\n",
              "      <td>0.0</td>\n",
              "      <td>0.0</td>\n",
              "      <td>0.0</td>\n",
              "      <td>0.0</td>\n",
              "      <td>0.0</td>\n",
              "      <td>0.0</td>\n",
              "      <td>0.0</td>\n",
              "      <td>0.0</td>\n",
              "      <td>0.0</td>\n",
              "      <td>0.0</td>\n",
              "      <td>0.0</td>\n",
              "      <td>0.0</td>\n",
              "      <td>0.0</td>\n",
              "      <td>0.0</td>\n",
              "      <td>0.0</td>\n",
              "    </tr>\n",
              "    <tr>\n",
              "      <th>3</th>\n",
              "      <td>0.0</td>\n",
              "      <td>0.000000</td>\n",
              "      <td>0.0</td>\n",
              "      <td>0.0</td>\n",
              "      <td>0.0</td>\n",
              "      <td>0.0</td>\n",
              "      <td>0.0</td>\n",
              "      <td>0.0</td>\n",
              "      <td>0.0</td>\n",
              "      <td>0.0</td>\n",
              "      <td>0.0</td>\n",
              "      <td>0.0</td>\n",
              "      <td>0.0</td>\n",
              "      <td>0.0</td>\n",
              "      <td>0.0</td>\n",
              "      <td>0.0</td>\n",
              "      <td>0.000000</td>\n",
              "      <td>0.0</td>\n",
              "      <td>0.000000</td>\n",
              "      <td>0.282344</td>\n",
              "      <td>0.0</td>\n",
              "      <td>0.0</td>\n",
              "      <td>0.00000</td>\n",
              "      <td>0.0</td>\n",
              "      <td>0.0</td>\n",
              "      <td>0.0</td>\n",
              "      <td>0.0</td>\n",
              "      <td>0.0</td>\n",
              "      <td>0.0</td>\n",
              "      <td>0.0</td>\n",
              "      <td>0.000000</td>\n",
              "      <td>0.0</td>\n",
              "      <td>0.0</td>\n",
              "      <td>0.332298</td>\n",
              "      <td>0.0</td>\n",
              "      <td>0.0</td>\n",
              "      <td>0.000000</td>\n",
              "      <td>0.0</td>\n",
              "      <td>0.0</td>\n",
              "      <td>0.0</td>\n",
              "      <td>...</td>\n",
              "      <td>0.0</td>\n",
              "      <td>0.0</td>\n",
              "      <td>0.000000</td>\n",
              "      <td>0.0</td>\n",
              "      <td>0.0</td>\n",
              "      <td>0.0</td>\n",
              "      <td>0.000000</td>\n",
              "      <td>0.0</td>\n",
              "      <td>0.0</td>\n",
              "      <td>0.0</td>\n",
              "      <td>0.0</td>\n",
              "      <td>0.0</td>\n",
              "      <td>0.00000</td>\n",
              "      <td>0.0</td>\n",
              "      <td>0.000000</td>\n",
              "      <td>0.0</td>\n",
              "      <td>0.192061</td>\n",
              "      <td>0.0</td>\n",
              "      <td>0.0</td>\n",
              "      <td>0.0</td>\n",
              "      <td>0.00000</td>\n",
              "      <td>0.0</td>\n",
              "      <td>0.0</td>\n",
              "      <td>0.0</td>\n",
              "      <td>0.0</td>\n",
              "      <td>0.0</td>\n",
              "      <td>0.0</td>\n",
              "      <td>0.0</td>\n",
              "      <td>0.0</td>\n",
              "      <td>0.0</td>\n",
              "      <td>0.0</td>\n",
              "      <td>0.0</td>\n",
              "      <td>0.0</td>\n",
              "      <td>0.0</td>\n",
              "      <td>0.0</td>\n",
              "      <td>0.0</td>\n",
              "      <td>0.0</td>\n",
              "      <td>0.0</td>\n",
              "      <td>0.0</td>\n",
              "      <td>0.0</td>\n",
              "    </tr>\n",
              "    <tr>\n",
              "      <th>4</th>\n",
              "      <td>0.0</td>\n",
              "      <td>0.000000</td>\n",
              "      <td>0.0</td>\n",
              "      <td>0.0</td>\n",
              "      <td>0.0</td>\n",
              "      <td>0.0</td>\n",
              "      <td>0.0</td>\n",
              "      <td>0.0</td>\n",
              "      <td>0.0</td>\n",
              "      <td>0.0</td>\n",
              "      <td>0.0</td>\n",
              "      <td>0.0</td>\n",
              "      <td>0.0</td>\n",
              "      <td>0.0</td>\n",
              "      <td>0.0</td>\n",
              "      <td>0.0</td>\n",
              "      <td>0.000000</td>\n",
              "      <td>0.0</td>\n",
              "      <td>0.000000</td>\n",
              "      <td>0.212814</td>\n",
              "      <td>0.0</td>\n",
              "      <td>0.0</td>\n",
              "      <td>0.00000</td>\n",
              "      <td>0.0</td>\n",
              "      <td>0.0</td>\n",
              "      <td>0.0</td>\n",
              "      <td>0.0</td>\n",
              "      <td>0.0</td>\n",
              "      <td>0.0</td>\n",
              "      <td>0.0</td>\n",
              "      <td>0.000000</td>\n",
              "      <td>0.0</td>\n",
              "      <td>0.0</td>\n",
              "      <td>0.000000</td>\n",
              "      <td>0.0</td>\n",
              "      <td>0.0</td>\n",
              "      <td>0.000000</td>\n",
              "      <td>0.0</td>\n",
              "      <td>0.0</td>\n",
              "      <td>0.0</td>\n",
              "      <td>...</td>\n",
              "      <td>0.0</td>\n",
              "      <td>0.0</td>\n",
              "      <td>0.250466</td>\n",
              "      <td>0.0</td>\n",
              "      <td>0.0</td>\n",
              "      <td>0.0</td>\n",
              "      <td>0.000000</td>\n",
              "      <td>0.0</td>\n",
              "      <td>0.0</td>\n",
              "      <td>0.0</td>\n",
              "      <td>0.0</td>\n",
              "      <td>0.0</td>\n",
              "      <td>0.00000</td>\n",
              "      <td>0.0</td>\n",
              "      <td>0.000000</td>\n",
              "      <td>0.0</td>\n",
              "      <td>0.000000</td>\n",
              "      <td>0.0</td>\n",
              "      <td>0.0</td>\n",
              "      <td>0.0</td>\n",
              "      <td>0.00000</td>\n",
              "      <td>0.0</td>\n",
              "      <td>0.0</td>\n",
              "      <td>0.0</td>\n",
              "      <td>0.0</td>\n",
              "      <td>0.0</td>\n",
              "      <td>0.0</td>\n",
              "      <td>0.0</td>\n",
              "      <td>0.0</td>\n",
              "      <td>0.0</td>\n",
              "      <td>0.0</td>\n",
              "      <td>0.0</td>\n",
              "      <td>0.0</td>\n",
              "      <td>0.0</td>\n",
              "      <td>0.0</td>\n",
              "      <td>0.0</td>\n",
              "      <td>0.0</td>\n",
              "      <td>0.0</td>\n",
              "      <td>0.0</td>\n",
              "      <td>0.0</td>\n",
              "    </tr>\n",
              "  </tbody>\n",
              "</table>\n",
              "<p>5 rows × 521 columns</p>\n",
              "</div>"
            ],
            "text/plain": [
              "   achiev    across  action  adapt  adjust  ...  wound  yara  ygritt  yunkai   zo\n",
              "0     0.0  0.224237     0.0    0.0     0.0  ...    0.0   0.0     0.0     0.0  0.0\n",
              "1     0.0  0.000000     0.0    0.0     0.0  ...    0.0   0.0     0.0     0.0  0.0\n",
              "2     0.0  0.000000     0.0    0.0     0.0  ...    0.0   0.0     0.0     0.0  0.0\n",
              "3     0.0  0.000000     0.0    0.0     0.0  ...    0.0   0.0     0.0     0.0  0.0\n",
              "4     0.0  0.000000     0.0    0.0     0.0  ...    0.0   0.0     0.0     0.0  0.0\n",
              "\n",
              "[5 rows x 521 columns]"
            ]
          },
          "metadata": {
            "tags": []
          },
          "execution_count": 43
        }
      ]
    },
    {
      "cell_type": "markdown",
      "metadata": {
        "id": "glOAGhPCYRrc"
      },
      "source": [
        "# Integración de características en un solo vector"
      ]
    },
    {
      "cell_type": "code",
      "metadata": {
        "id": "UJage3YDYeLJ",
        "outputId": "4feaf0c9-64e5-4b52-e584-b2f74b1282d4",
        "colab": {
          "base_uri": "https://localhost:8080/",
          "height": 68
        }
      },
      "source": [
        "print(mdt_tfidf.shape)\n",
        "print(numericas.shape)\n",
        "print(categoricas_he.shape)\n"
      ],
      "execution_count": 44,
      "outputs": [
        {
          "output_type": "stream",
          "text": [
            "(73, 521)\n",
            "(73, 5)\n",
            "(73, 26)\n"
          ],
          "name": "stdout"
        }
      ]
    },
    {
      "cell_type": "code",
      "metadata": {
        "id": "vw9rB_jBaCag",
        "outputId": "fdbf4a6e-7140-45d8-d283-bc9cb6aa335b",
        "colab": {
          "base_uri": "https://localhost:8080/",
          "height": 34
        }
      },
      "source": [
        "df_t = pd.concat([numericas, categoricas_he, mdt_tfidf], axis=1)\n",
        "df_t.shape"
      ],
      "execution_count": 45,
      "outputs": [
        {
          "output_type": "execute_result",
          "data": {
            "text/plain": [
              "(73, 552)"
            ]
          },
          "metadata": {
            "tags": []
          },
          "execution_count": 45
        }
      ]
    },
    {
      "cell_type": "code",
      "metadata": {
        "id": "zuCvP5n8mbjX",
        "outputId": "2ecf6109-6f47-4bae-f16e-39ef5d46c65d",
        "colab": {
          "base_uri": "https://localhost:8080/",
          "height": 276
        }
      },
      "source": [
        "#Llevar columna de clase (Imdb Rating) hasta la última posición\n",
        "\n",
        "cols = df_t.columns.tolist()\n",
        "df_t = df_t[[c for c in df_t if c != 'Imdb Rating'] + ['Imdb Rating']]\n",
        "\n",
        "print(df_t.shape)\n",
        "df_t.head(3)"
      ],
      "execution_count": 46,
      "outputs": [
        {
          "output_type": "stream",
          "text": [
            "(73, 552)\n"
          ],
          "name": "stdout"
        },
        {
          "output_type": "execute_result",
          "data": {
            "text/html": [
              "<div>\n",
              "<style scoped>\n",
              "    .dataframe tbody tr th:only-of-type {\n",
              "        vertical-align: middle;\n",
              "    }\n",
              "\n",
              "    .dataframe tbody tr th {\n",
              "        vertical-align: top;\n",
              "    }\n",
              "\n",
              "    .dataframe thead th {\n",
              "        text-align: right;\n",
              "    }\n",
              "</style>\n",
              "<table border=\"1\" class=\"dataframe\">\n",
              "  <thead>\n",
              "    <tr style=\"text-align: right;\">\n",
              "      <th></th>\n",
              "      <th>US viewers (million)</th>\n",
              "      <th>Runtime (mins)</th>\n",
              "      <th>IMDB votes</th>\n",
              "      <th>Notable Death Count</th>\n",
              "      <th>Director_Alan Taylor</th>\n",
              "      <th>Director_Alex Graves</th>\n",
              "      <th>Director_Alik Sakharov</th>\n",
              "      <th>Director_Brian Kirk</th>\n",
              "      <th>Director_D. B. Weiss</th>\n",
              "      <th>Director_Daniel Minahan</th>\n",
              "      <th>Director_Daniel Sackheim</th>\n",
              "      <th>Director_David Benioff</th>\n",
              "      <th>Director_David Benioff &amp; D. B. Weiss</th>\n",
              "      <th>Director_David Nutter</th>\n",
              "      <th>Director_David Petrarca</th>\n",
              "      <th>Director_Jack Bender</th>\n",
              "      <th>Director_Jeremy Podeswa</th>\n",
              "      <th>Director_Mark Mylod</th>\n",
              "      <th>Director_Matt Shakman</th>\n",
              "      <th>Director_Michael Slovis</th>\n",
              "      <th>Director_Michelle MacLaren</th>\n",
              "      <th>Director_Miguel Sapochnik</th>\n",
              "      <th>Director_Neil Marshall</th>\n",
              "      <th>Director_Tim Van Patten</th>\n",
              "      <th>Writer_1_Bryan Cogman</th>\n",
              "      <th>Writer_1_Dave Hill</th>\n",
              "      <th>Writer_1_David Benioff &amp; D. B. Weiss</th>\n",
              "      <th>Writer_1_George R. R. Martin</th>\n",
              "      <th>Writer_1_Jane Espenson &amp; David Benioff and D. B. Weiss</th>\n",
              "      <th>Writer_1_Vanessa Taylor</th>\n",
              "      <th>achiev</th>\n",
              "      <th>across</th>\n",
              "      <th>action</th>\n",
              "      <th>adapt</th>\n",
              "      <th>adjust</th>\n",
              "      <th>advic</th>\n",
              "      <th>advis</th>\n",
              "      <th>aftermath</th>\n",
              "      <th>aim</th>\n",
              "      <th>alli</th>\n",
              "      <th>...</th>\n",
              "      <th>vae</th>\n",
              "      <th>vale</th>\n",
              "      <th>valyria</th>\n",
              "      <th>vanquish</th>\n",
              "      <th>vari</th>\n",
              "      <th>viseri</th>\n",
              "      <th>visit</th>\n",
              "      <th>visitor</th>\n",
              "      <th>volanti</th>\n",
              "      <th>vow</th>\n",
              "      <th>walker</th>\n",
              "      <th>wall</th>\n",
              "      <th>war</th>\n",
              "      <th>warlord</th>\n",
              "      <th>warn</th>\n",
              "      <th>watch</th>\n",
              "      <th>watchmen</th>\n",
              "      <th>way</th>\n",
              "      <th>weapon</th>\n",
              "      <th>wed</th>\n",
              "      <th>weirwood</th>\n",
              "      <th>welcom</th>\n",
              "      <th>westero</th>\n",
              "      <th>whereabout</th>\n",
              "      <th>white</th>\n",
              "      <th>wight</th>\n",
              "      <th>wilder</th>\n",
              "      <th>wildl</th>\n",
              "      <th>win</th>\n",
              "      <th>winterfel</th>\n",
              "      <th>without</th>\n",
              "      <th>word</th>\n",
              "      <th>world</th>\n",
              "      <th>worth</th>\n",
              "      <th>wound</th>\n",
              "      <th>yara</th>\n",
              "      <th>ygritt</th>\n",
              "      <th>yunkai</th>\n",
              "      <th>zo</th>\n",
              "      <th>Imdb Rating</th>\n",
              "    </tr>\n",
              "  </thead>\n",
              "  <tbody>\n",
              "    <tr>\n",
              "      <th>0</th>\n",
              "      <td>2.22</td>\n",
              "      <td>62</td>\n",
              "      <td>27685</td>\n",
              "      <td>4</td>\n",
              "      <td>0</td>\n",
              "      <td>0</td>\n",
              "      <td>0</td>\n",
              "      <td>0</td>\n",
              "      <td>0</td>\n",
              "      <td>0</td>\n",
              "      <td>0</td>\n",
              "      <td>0</td>\n",
              "      <td>0</td>\n",
              "      <td>0</td>\n",
              "      <td>0</td>\n",
              "      <td>0</td>\n",
              "      <td>0</td>\n",
              "      <td>0</td>\n",
              "      <td>0</td>\n",
              "      <td>0</td>\n",
              "      <td>0</td>\n",
              "      <td>0</td>\n",
              "      <td>0</td>\n",
              "      <td>1</td>\n",
              "      <td>0</td>\n",
              "      <td>0</td>\n",
              "      <td>1</td>\n",
              "      <td>0</td>\n",
              "      <td>0</td>\n",
              "      <td>0</td>\n",
              "      <td>0.0</td>\n",
              "      <td>0.224237</td>\n",
              "      <td>0.0</td>\n",
              "      <td>0.0</td>\n",
              "      <td>0.0</td>\n",
              "      <td>0.0</td>\n",
              "      <td>0.0</td>\n",
              "      <td>0.0</td>\n",
              "      <td>0.0</td>\n",
              "      <td>0.0</td>\n",
              "      <td>...</td>\n",
              "      <td>0.0</td>\n",
              "      <td>0.0</td>\n",
              "      <td>0.0</td>\n",
              "      <td>0.0</td>\n",
              "      <td>0.0</td>\n",
              "      <td>0.204519</td>\n",
              "      <td>0.0</td>\n",
              "      <td>0.0</td>\n",
              "      <td>0.0</td>\n",
              "      <td>0.0</td>\n",
              "      <td>0.0</td>\n",
              "      <td>0.00000</td>\n",
              "      <td>0.0</td>\n",
              "      <td>0.224237</td>\n",
              "      <td>0.0</td>\n",
              "      <td>0.0</td>\n",
              "      <td>0.0</td>\n",
              "      <td>0.0</td>\n",
              "      <td>0.0</td>\n",
              "      <td>0.17081</td>\n",
              "      <td>0.0</td>\n",
              "      <td>0.0</td>\n",
              "      <td>0.0</td>\n",
              "      <td>0.0</td>\n",
              "      <td>0.0</td>\n",
              "      <td>0.0</td>\n",
              "      <td>0.0</td>\n",
              "      <td>0.0</td>\n",
              "      <td>0.0</td>\n",
              "      <td>0.0</td>\n",
              "      <td>0.0</td>\n",
              "      <td>0.0</td>\n",
              "      <td>0.0</td>\n",
              "      <td>0.0</td>\n",
              "      <td>0.0</td>\n",
              "      <td>0.0</td>\n",
              "      <td>0.0</td>\n",
              "      <td>0.0</td>\n",
              "      <td>0.0</td>\n",
              "      <td>9.0</td>\n",
              "    </tr>\n",
              "    <tr>\n",
              "      <th>1</th>\n",
              "      <td>2.20</td>\n",
              "      <td>56</td>\n",
              "      <td>21256</td>\n",
              "      <td>3</td>\n",
              "      <td>0</td>\n",
              "      <td>0</td>\n",
              "      <td>0</td>\n",
              "      <td>0</td>\n",
              "      <td>0</td>\n",
              "      <td>0</td>\n",
              "      <td>0</td>\n",
              "      <td>0</td>\n",
              "      <td>0</td>\n",
              "      <td>0</td>\n",
              "      <td>0</td>\n",
              "      <td>0</td>\n",
              "      <td>0</td>\n",
              "      <td>0</td>\n",
              "      <td>0</td>\n",
              "      <td>0</td>\n",
              "      <td>0</td>\n",
              "      <td>0</td>\n",
              "      <td>0</td>\n",
              "      <td>1</td>\n",
              "      <td>0</td>\n",
              "      <td>0</td>\n",
              "      <td>1</td>\n",
              "      <td>0</td>\n",
              "      <td>0</td>\n",
              "      <td>0</td>\n",
              "      <td>0.0</td>\n",
              "      <td>0.000000</td>\n",
              "      <td>0.0</td>\n",
              "      <td>0.0</td>\n",
              "      <td>0.0</td>\n",
              "      <td>0.0</td>\n",
              "      <td>0.0</td>\n",
              "      <td>0.0</td>\n",
              "      <td>0.0</td>\n",
              "      <td>0.0</td>\n",
              "      <td>...</td>\n",
              "      <td>0.0</td>\n",
              "      <td>0.0</td>\n",
              "      <td>0.0</td>\n",
              "      <td>0.0</td>\n",
              "      <td>0.0</td>\n",
              "      <td>0.000000</td>\n",
              "      <td>0.0</td>\n",
              "      <td>0.0</td>\n",
              "      <td>0.0</td>\n",
              "      <td>0.0</td>\n",
              "      <td>0.0</td>\n",
              "      <td>0.21751</td>\n",
              "      <td>0.0</td>\n",
              "      <td>0.000000</td>\n",
              "      <td>0.0</td>\n",
              "      <td>0.0</td>\n",
              "      <td>0.0</td>\n",
              "      <td>0.0</td>\n",
              "      <td>0.0</td>\n",
              "      <td>0.00000</td>\n",
              "      <td>0.0</td>\n",
              "      <td>0.0</td>\n",
              "      <td>0.0</td>\n",
              "      <td>0.0</td>\n",
              "      <td>0.0</td>\n",
              "      <td>0.0</td>\n",
              "      <td>0.0</td>\n",
              "      <td>0.0</td>\n",
              "      <td>0.0</td>\n",
              "      <td>0.0</td>\n",
              "      <td>0.0</td>\n",
              "      <td>0.0</td>\n",
              "      <td>0.0</td>\n",
              "      <td>0.0</td>\n",
              "      <td>0.0</td>\n",
              "      <td>0.0</td>\n",
              "      <td>0.0</td>\n",
              "      <td>0.0</td>\n",
              "      <td>0.0</td>\n",
              "      <td>8.8</td>\n",
              "    </tr>\n",
              "    <tr>\n",
              "      <th>2</th>\n",
              "      <td>2.44</td>\n",
              "      <td>58</td>\n",
              "      <td>20090</td>\n",
              "      <td>0</td>\n",
              "      <td>0</td>\n",
              "      <td>0</td>\n",
              "      <td>0</td>\n",
              "      <td>1</td>\n",
              "      <td>0</td>\n",
              "      <td>0</td>\n",
              "      <td>0</td>\n",
              "      <td>0</td>\n",
              "      <td>0</td>\n",
              "      <td>0</td>\n",
              "      <td>0</td>\n",
              "      <td>0</td>\n",
              "      <td>0</td>\n",
              "      <td>0</td>\n",
              "      <td>0</td>\n",
              "      <td>0</td>\n",
              "      <td>0</td>\n",
              "      <td>0</td>\n",
              "      <td>0</td>\n",
              "      <td>0</td>\n",
              "      <td>0</td>\n",
              "      <td>0</td>\n",
              "      <td>1</td>\n",
              "      <td>0</td>\n",
              "      <td>0</td>\n",
              "      <td>0</td>\n",
              "      <td>0.0</td>\n",
              "      <td>0.000000</td>\n",
              "      <td>0.0</td>\n",
              "      <td>0.0</td>\n",
              "      <td>0.0</td>\n",
              "      <td>0.0</td>\n",
              "      <td>0.0</td>\n",
              "      <td>0.0</td>\n",
              "      <td>0.0</td>\n",
              "      <td>0.0</td>\n",
              "      <td>...</td>\n",
              "      <td>0.0</td>\n",
              "      <td>0.0</td>\n",
              "      <td>0.0</td>\n",
              "      <td>0.0</td>\n",
              "      <td>0.0</td>\n",
              "      <td>0.000000</td>\n",
              "      <td>0.0</td>\n",
              "      <td>0.0</td>\n",
              "      <td>0.0</td>\n",
              "      <td>0.0</td>\n",
              "      <td>0.0</td>\n",
              "      <td>0.00000</td>\n",
              "      <td>0.0</td>\n",
              "      <td>0.000000</td>\n",
              "      <td>0.0</td>\n",
              "      <td>0.0</td>\n",
              "      <td>0.0</td>\n",
              "      <td>0.0</td>\n",
              "      <td>0.0</td>\n",
              "      <td>0.00000</td>\n",
              "      <td>0.0</td>\n",
              "      <td>0.0</td>\n",
              "      <td>0.0</td>\n",
              "      <td>0.0</td>\n",
              "      <td>0.0</td>\n",
              "      <td>0.0</td>\n",
              "      <td>0.0</td>\n",
              "      <td>0.0</td>\n",
              "      <td>0.0</td>\n",
              "      <td>0.0</td>\n",
              "      <td>0.0</td>\n",
              "      <td>0.0</td>\n",
              "      <td>0.0</td>\n",
              "      <td>0.0</td>\n",
              "      <td>0.0</td>\n",
              "      <td>0.0</td>\n",
              "      <td>0.0</td>\n",
              "      <td>0.0</td>\n",
              "      <td>0.0</td>\n",
              "      <td>8.7</td>\n",
              "    </tr>\n",
              "  </tbody>\n",
              "</table>\n",
              "<p>3 rows × 552 columns</p>\n",
              "</div>"
            ],
            "text/plain": [
              "   US viewers (million)  Runtime (mins)  IMDB votes  ...  yunkai   zo  Imdb Rating\n",
              "0                  2.22              62       27685  ...     0.0  0.0          9.0\n",
              "1                  2.20              56       21256  ...     0.0  0.0          8.8\n",
              "2                  2.44              58       20090  ...     0.0  0.0          8.7\n",
              "\n",
              "[3 rows x 552 columns]"
            ]
          },
          "metadata": {
            "tags": []
          },
          "execution_count": 46
        }
      ]
    },
    {
      "cell_type": "code",
      "metadata": {
        "id": "o1a3pfH9q13K"
      },
      "source": [
        "Y = df_t['Imdb Rating']\n",
        "X = df_t.drop('Imdb Rating', axis=1)"
      ],
      "execution_count": 47,
      "outputs": []
    },
    {
      "cell_type": "markdown",
      "metadata": {
        "id": "GHBtAscHb2-P"
      },
      "source": [
        "# Regresion lineal Robusta\n",
        "\n",
        "\n",
        "Referencia: https://towardsdatascience.com/glr-with-python-and-scikit-learn-library-67b5b0d418ea"
      ]
    },
    {
      "cell_type": "code",
      "metadata": {
        "id": "hWc8vDKgxxGC"
      },
      "source": [
        "X_train, X_test , y_train, y_test = train_test_split(X, Y, test_size=0.2, \n",
        "                                                     random_state=3)"
      ],
      "execution_count": 48,
      "outputs": []
    },
    {
      "cell_type": "code",
      "metadata": {
        "id": "aYtjhqvgYj9h",
        "outputId": "c440dade-de26-45b8-c369-e2f629eeb751",
        "colab": {
          "base_uri": "https://localhost:8080/",
          "height": 442
        }
      },
      "source": [
        "rl = LinearRegression(normalize=True)\n",
        "rl.fit(X_train, y_train)\n",
        "print(pd.Series(rl.coef_, index = X.columns)) \n",
        "pred = rl.predict(X_test)           \n",
        "print(pd.Series(rl.coef_, index = X.columns)) \n",
        "print(mean_squared_error(y_test, pred))    \n"
      ],
      "execution_count": 67,
      "outputs": [
        {
          "output_type": "stream",
          "text": [
            "US viewers (million)   -0.032835\n",
            "Runtime (mins)         -0.013694\n",
            "IMDB votes             -0.000002\n",
            "Notable Death Count     0.008784\n",
            "Director_Alan Taylor    0.064713\n",
            "                          ...   \n",
            "wound                   0.000000\n",
            "yara                    0.473212\n",
            "ygritt                  0.274019\n",
            "yunkai                  0.144205\n",
            "zo                      0.231617\n",
            "Length: 551, dtype: float64\n",
            "US viewers (million)   -0.032835\n",
            "Runtime (mins)         -0.013694\n",
            "IMDB votes             -0.000002\n",
            "Notable Death Count     0.008784\n",
            "Director_Alan Taylor    0.064713\n",
            "                          ...   \n",
            "wound                   0.000000\n",
            "yara                    0.473212\n",
            "ygritt                  0.274019\n",
            "yunkai                  0.144205\n",
            "zo                      0.231617\n",
            "Length: 551, dtype: float64\n",
            "0.3945839164282127\n"
          ],
          "name": "stdout"
        }
      ]
    },
    {
      "cell_type": "code",
      "metadata": {
        "id": "xIBWxs-ytA68",
        "outputId": "976b6c63-53f2-4730-c808-aa67969b939a",
        "colab": {
          "base_uri": "https://localhost:8080/",
          "height": 34
        }
      },
      "source": [
        "alfas = list(10**np.linspace(10, -3, 100)*0.5)\n",
        "len(alfas)\n"
      ],
      "execution_count": 69,
      "outputs": [
        {
          "output_type": "execute_result",
          "data": {
            "text/plain": [
              "100"
            ]
          },
          "metadata": {
            "tags": []
          },
          "execution_count": 69
        }
      ]
    },
    {
      "cell_type": "code",
      "metadata": {
        "id": "tZ9gUiVSz8l9",
        "outputId": "0cd9dd39-83ee-46e4-9182-8bc56d8d10b6",
        "colab": {
          "base_uri": "https://localhost:8080/",
          "height": 34
        }
      },
      "source": [
        "ridge = Ridge(normalize = True)\n",
        "coefs = []\n",
        "\n",
        "for a in alfas:\n",
        "    ridge.set_params(alpha = a)\n",
        "    ridge.fit(X_train, y_train)\n",
        "    coefs.append(ridge.coef_)\n",
        "    \n",
        "np.shape(coefs)"
      ],
      "execution_count": 70,
      "outputs": [
        {
          "output_type": "execute_result",
          "data": {
            "text/plain": [
              "(100, 551)"
            ]
          },
          "metadata": {
            "tags": []
          },
          "execution_count": 70
        }
      ]
    },
    {
      "cell_type": "code",
      "metadata": {
        "id": "LGDwe5Oj1YAO",
        "outputId": "141c2f97-d938-4ab7-f075-ba51839c49d6",
        "colab": {
          "base_uri": "https://localhost:8080/",
          "height": 300
        }
      },
      "source": [
        "ax = plt.gca()\n",
        "ax.plot(alfas, coefs)\n",
        "ax.set_xscale('log')\n",
        "plt.axis('tight')\n",
        "plt.xlabel('alpha')\n",
        "plt.ylabel('weights')"
      ],
      "execution_count": 71,
      "outputs": [
        {
          "output_type": "execute_result",
          "data": {
            "text/plain": [
              "Text(0, 0.5, 'weights')"
            ]
          },
          "metadata": {
            "tags": []
          },
          "execution_count": 71
        },
        {
          "output_type": "display_data",
          "data": {
            "image/png": "[encoded data removed]",
            "text/plain": [
              "<Figure size 432x288 with 1 Axes>"
            ]
          },
          "metadata": {
            "tags": [],
            "needs_background": "light"
          }
        }
      ]
    },
    {
      "cell_type": "code",
      "metadata": {
        "id": "KwdUUm811gLE",
        "outputId": "4d30b9f5-2cdb-4cf6-854a-57682ef18147",
        "colab": {
          "base_uri": "https://localhost:8080/",
          "height": 238
        }
      },
      "source": [
        "ridge1 = Ridge(alpha = 6)\n",
        "ridge1.fit(X_train, y_train)             \n",
        "pred1 = ridge1.predict(X_test)           \n",
        "print(pd.Series(ridge1.coef_, index = X.columns)) \n",
        "print(mean_squared_error(y_test, pred1))          "
      ],
      "execution_count": 72,
      "outputs": [
        {
          "output_type": "stream",
          "text": [
            "US viewers (million)    0.022661\n",
            "Runtime (mins)         -0.043202\n",
            "IMDB votes             -0.000012\n",
            "Notable Death Count     0.079038\n",
            "Director_Alan Taylor    0.006588\n",
            "                          ...   \n",
            "wound                   0.000000\n",
            "yara                    0.111348\n",
            "ygritt                  0.010625\n",
            "yunkai                  0.018264\n",
            "zo                      0.027724\n",
            "Length: 551, dtype: float64\n",
            "0.34930569133186007\n"
          ],
          "name": "stdout"
        }
      ]
    },
    {
      "cell_type": "code",
      "metadata": {
        "id": "APh9yUQV2O2H",
        "outputId": "18c371be-830a-4640-87c6-1e739d94809b",
        "colab": {
          "base_uri": "https://localhost:8080/",
          "height": 238
        }
      },
      "source": [
        "ridge2 = Ridge(alpha = 10000)\n",
        "ridge2.fit(X_train, y_train)             \n",
        "pred2 = ridge2.predict(X_test)          \n",
        "print(pd.Series(ridge2.coef_, index = X.columns))\n",
        "print(mean_squared_error(y_test, pred2))          "
      ],
      "execution_count": 53,
      "outputs": [
        {
          "output_type": "stream",
          "text": [
            "US viewers (million)   -3.981841e-04\n",
            "Runtime (mins)         -5.422121e-03\n",
            "IMDB votes             -1.320602e-05\n",
            "Notable Death Count     2.982800e-03\n",
            "Director_Alan Taylor   -5.877651e-06\n",
            "                            ...     \n",
            "wound                   0.000000e+00\n",
            "yara                    9.961307e-05\n",
            "ygritt                 -1.243808e-07\n",
            "yunkai                  1.938717e-05\n",
            "zo                      1.908047e-05\n",
            "Length: 551, dtype: float64\n",
            "0.4096821404197826\n"
          ],
          "name": "stdout"
        }
      ]
    },
    {
      "cell_type": "code",
      "metadata": {
        "id": "SLkculGA33T6",
        "outputId": "eda2e07d-78bb-46b1-b28d-61db7c66c829",
        "colab": {
          "base_uri": "https://localhost:8080/",
          "height": 34
        }
      },
      "source": [
        "#¿Qué alfa elegir?\n",
        "ridgecv = RidgeCV(alphas = alfas)\n",
        "ridgecv.fit(X_train, y_train)\n",
        "ridgecv.alpha_"
      ],
      "execution_count": 55,
      "outputs": [
        {
          "output_type": "execute_result",
          "data": {
            "text/plain": [
              "742.4841311272318"
            ]
          },
          "metadata": {
            "tags": []
          },
          "execution_count": 55
        }
      ]
    },
    {
      "cell_type": "code",
      "metadata": {
        "id": "lcZxJeax4VqO",
        "outputId": "8a1b9eca-a440-4b9e-a18a-cc3913688ff7",
        "colab": {
          "base_uri": "https://localhost:8080/",
          "height": 238
        }
      },
      "source": [
        "ridge3 = Ridge(alpha = ridgecv.alpha_)\n",
        "ridge3.fit(X_train, y_train)             \n",
        "pred3 = ridge3.predict(X_test)           \n",
        "print(pd.Series(ridge3.coef_, index = X.columns)) \n",
        "print(mean_squared_error(y_test, pred3))"
      ],
      "execution_count": 56,
      "outputs": [
        {
          "output_type": "stream",
          "text": [
            "US viewers (million)    0.000863\n",
            "Runtime (mins)         -0.025906\n",
            "IMDB votes             -0.000011\n",
            "Notable Death Count     0.029151\n",
            "Director_Alan Taylor    0.000163\n",
            "                          ...   \n",
            "wound                   0.000000\n",
            "yara                    0.001187\n",
            "ygritt                  0.000036\n",
            "yunkai                  0.000200\n",
            "zo                      0.000238\n",
            "Length: 551, dtype: float64\n",
            "0.39366857351404483\n"
          ],
          "name": "stdout"
        }
      ]
    },
    {
      "cell_type": "code",
      "metadata": {
        "id": "dD3tFdu2vujw",
        "outputId": "a8d8ae2e-b8df-44fe-a65a-6b4c188dd364",
        "colab": {
          "base_uri": "https://localhost:8080/",
          "height": 300
        }
      },
      "source": [
        "lasso = Lasso(max_iter = 10000, normalize = True)\n",
        "coefs = []\n",
        "\n",
        "for a in alfas:\n",
        "    lasso.set_params(alpha=a)\n",
        "    lasso.fit(X_train, y_train)\n",
        "    coefs.append(lasso.coef_)\n",
        "    \n",
        "ax = plt.gca()\n",
        "ax.plot(alfas, coefs)\n",
        "ax.set_xscale('log')\n",
        "plt.axis('tight')\n",
        "plt.xlabel('alpha')\n",
        "plt.ylabel('weights')"
      ],
      "execution_count": 73,
      "outputs": [
        {
          "output_type": "execute_result",
          "data": {
            "text/plain": [
              "Text(0, 0.5, 'weights')"
            ]
          },
          "metadata": {
            "tags": []
          },
          "execution_count": 73
        },
        {
          "output_type": "display_data",
          "data": {
            "image/png": "[encoded data removed]",
            "text/plain": [
              "<Figure size 432x288 with 1 Axes>"
            ]
          },
          "metadata": {
            "tags": [],
            "needs_background": "light"
          }
        }
      ]
    },
    {
      "cell_type": "code",
      "metadata": {
        "id": "yRrMDdVOw6Ar",
        "outputId": "3d1ff058-c300-4cc7-d97c-c24560fecca6",
        "colab": {
          "base_uri": "https://localhost:8080/",
          "height": 34
        }
      },
      "source": [
        "lassocv = LassoCV(alphas = alfas, cv = 10,  normalize = True)\n",
        "lassocv.fit(X_train, y_train)\n",
        "\n",
        "lasso.set_params(alpha=lassocv.alpha_)\n",
        "lasso.fit(X_train, y_train)\n",
        "mean_squared_error(y_test, lasso.predict(X_test))"
      ],
      "execution_count": 74,
      "outputs": [
        {
          "output_type": "execute_result",
          "data": {
            "text/plain": [
              "0.32923021652062245"
            ]
          },
          "metadata": {
            "tags": []
          },
          "execution_count": 74
        }
      ]
    },
    {
      "cell_type": "code",
      "metadata": {
        "id": "29VscR7jZqrj",
        "outputId": "4bcf4182-9b6c-4470-b6ed-19986df81a16",
        "colab": {
          "base_uri": "https://localhost:8080/",
          "height": 34
        }
      },
      "source": [
        "lassocv.alpha_"
      ],
      "execution_count": 75,
      "outputs": [
        {
          "output_type": "execute_result",
          "data": {
            "text/plain": [
              "0.034463060521748405"
            ]
          },
          "metadata": {
            "tags": []
          },
          "execution_count": 75
        }
      ]
    }
  ]
}